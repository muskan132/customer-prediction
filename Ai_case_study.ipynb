{
 "cells": [
  {
   "cell_type": "code",
   "execution_count": 1,
   "metadata": {
    "id": "7UAlCBN8wwRn"
   },
   "outputs": [],
   "source": [
    "import pandas as pd\n",
    "import numpy as np"
   ]
  },
  {
   "cell_type": "code",
   "execution_count": 4,
   "metadata": {
    "id": "BkqRcbyxxJEg"
   },
   "outputs": [],
   "source": [
    "data= pd.read_csv(\"Musical_Instruments_5.csv\")"
   ]
  },
  {
   "cell_type": "code",
   "execution_count": 10,
   "metadata": {
    "colab": {
     "base_uri": "https://localhost:8080/",
     "height": 424
    },
    "id": "vxGGDWV6xSCP",
    "outputId": "e97065d0-66f4-43c9-ce12-d9358edb87d0"
   },
   "outputs": [],
   "source": [
    "data =data.head()"
   ]
  },
  {
   "cell_type": "code",
   "execution_count": 11,
   "metadata": {
    "colab": {
     "base_uri": "https://localhost:8080/"
    },
    "id": "dptNcwXfxTmK",
    "outputId": "65d20a03-a6b6-4b73-87a7-611226b6e6ce"
   },
   "outputs": [
    {
     "data": {
      "text/plain": [
       "0    5\n",
       "1    5\n",
       "2    5\n",
       "3    5\n",
       "4    5\n",
       "Name: overall, dtype: int64"
      ]
     },
     "execution_count": 11,
     "metadata": {},
     "output_type": "execute_result"
    }
   ],
   "source": [
    "data['overall']"
   ]
  },
  {
   "cell_type": "code",
   "execution_count": 7,
   "metadata": {
    "colab": {
     "base_uri": "https://localhost:8080/"
    },
    "id": "ZVoNuZ1rxhGW",
    "outputId": "696a0bd0-4eb1-4804-8441-c7fa1c6feb23"
   },
   "outputs": [
    {
     "data": {
      "text/plain": [
       "array(['1384719342', 'B00004Y2UT', 'B00005ML71', 'B000068NSX',\n",
       "       'B000068NTU', 'B000068NVI', 'B000068NW5', 'B000068NZC',\n",
       "       'B000068NZG', 'B000068O1N', 'B000068O3D', 'B000068O3X',\n",
       "       'B000068O4H', 'B000068O59', 'B00006LVEU', 'B00009W40D',\n",
       "       'B00009W40G', 'B0000AQRSR', 'B0000AQRSS', 'B0000AQRST',\n",
       "       'B0000AQRSU', 'B000165DSM', 'B0001FTVD6', 'B0002BACB4',\n",
       "       'B0002CZR3G', 'B0002CZSJO', 'B0002CZSJY', 'B0002CZST4',\n",
       "       'B0002CZT0M', 'B0002CZTIO', 'B0002CZUTM', 'B0002CZUUG',\n",
       "       'B0002CZV46', 'B0002CZV78', 'B0002CZV7I', 'B0002CZV82',\n",
       "       'B0002CZVA0', 'B0002CZVB4', 'B0002CZVBE', 'B0002CZVHI',\n",
       "       'B0002CZVI2', 'B0002CZVK0', 'B0002CZVW8', 'B0002CZVWS',\n",
       "       'B0002CZVXM', 'B0002CZVZK', 'B0002CZW0Y', 'B0002CZZW4',\n",
       "       'B0002D0096', 'B0002D01IG', 'B0002D01K4', 'B0002D01KO',\n",
       "       'B0002D01PY', 'B0002D02IU', 'B0002D02RQ', 'B0002D05FU',\n",
       "       'B0002D070I', 'B0002D0B4K', 'B0002D0C1C', 'B0002D0CA8',\n",
       "       'B0002D0CAI', 'B0002D0CEO', 'B0002D0CGC', 'B0002D0CGM',\n",
       "       'B0002D0CGW', 'B0002D0CIK', 'B0002D0CKI', 'B0002D0CL2',\n",
       "       'B0002D0CLC', 'B0002D0CLM', 'B0002D0CNA', 'B0002D0COE',\n",
       "       'B0002D0CQC', 'B0002D0DWK', 'B0002D0E8S', 'B0002D0HY4',\n",
       "       'B0002D0JZ6', 'B0002D0KOG', 'B0002D0L40', 'B0002D0LKY',\n",
       "       'B0002D0LM2', 'B0002D0MFI', 'B0002D0N70', 'B0002D0PB4',\n",
       "       'B0002D0Q2W', 'B0002DUPZK', 'B0002DUPZU', 'B0002DUQ04',\n",
       "       'B0002DURNK', 'B0002DUS8E', 'B0002DV6RQ', 'B0002DV7U2',\n",
       "       'B0002DV7ZM', 'B0002DVBJY', 'B0002E1G5C', 'B0002E1H9W',\n",
       "       'B0002E1I2I', 'B0002E1J3Q', 'B0002E1J5E', 'B0002E1NNC',\n",
       "       'B0002E1NNM', 'B0002E1NQ4', 'B0002E1NQE', 'B0002E1O2C',\n",
       "       'B0002E1O2M', 'B0002E1O2W', 'B0002E1O3G', 'B0002E1O5E',\n",
       "       'B0002E1O7M', 'B0002E1O7W', 'B0002E1O90', 'B0002E1OVS',\n",
       "       'B0002E2EOE', 'B0002E2G24', 'B0002E2G2O', 'B0002E2GMY',\n",
       "       'B0002E2KPC', 'B0002E2S36', 'B0002E2TTO', 'B0002E2VXS',\n",
       "       'B0002E2XCW', 'B0002E2Z8Y', 'B0002E37G8', 'B0002E37MM',\n",
       "       'B0002E382Q', 'B0002E3830', 'B0002E38AS', 'B0002E38B2',\n",
       "       'B0002E3A8S', 'B0002E3B78', 'B0002E3CHC', 'B0002E3DGC',\n",
       "       'B0002E3DLM', 'B0002E3DNK', 'B0002E3FCO', 'B0002E3MRW',\n",
       "       'B0002E4Z8M', 'B0002E51ZS', 'B0002E5266', 'B0002E528E',\n",
       "       'B0002E52RU', 'B0002E54FK', 'B0002E54ZU', 'B0002E5518',\n",
       "       'B0002F4MKC', 'B0002F4VBM', 'B0002F519I', 'B0002F52EW',\n",
       "       'B0002F58TG', 'B0002F6RSM', 'B0002F73YY', 'B0002F741Q',\n",
       "       'B0002F75K6', 'B0002F77B8', 'B0002F7IIK', 'B0002F7IN0',\n",
       "       'B0002F7K7Y', 'B0002FO9QY', 'B0002FOBJY', 'B0002GIRP2',\n",
       "       'B0002GIW3Y', 'B0002GJ3E6', 'B0002GJ3ZA', 'B0002GJ6FC',\n",
       "       'B0002GJILE', 'B0002GL7ZO', 'B0002GLCRC', 'B0002GLDQM',\n",
       "       'B0002GMGYA', 'B0002GML4U', 'B0002GOJZO', 'B0002GOK08',\n",
       "       'B0002GTZR6', 'B0002GW3Y8', 'B0002GWFEQ', 'B0002GWXKC',\n",
       "       'B0002GX5NG', 'B0002GX6V2', 'B0002GXF8Q', 'B0002GXPRM',\n",
       "       'B0002GXRF2', 'B0002GXV2Q', 'B0002GXV3A', 'B0002GXZK4',\n",
       "       'B0002GYW4C', 'B0002GYYD6', 'B0002GYYDQ', 'B0002GZ052',\n",
       "       'B0002GZBLU', 'B0002GZBNS', 'B0002GZBO2', 'B0002GZLZQ',\n",
       "       'B0002GZM00', 'B0002GZQ1U', 'B0002GZTT4', 'B0002H02IG',\n",
       "       'B0002H03YY', 'B0002H04NE', 'B0002H0A3S', 'B0002H0FMO',\n",
       "       'B0002H0H4A', 'B0002H0JZC', 'B0002H0KG0', 'B0002H0LQO',\n",
       "       'B0002H0N76', 'B0002H0SKS', 'B0002HLL8G', 'B0002IAJ56',\n",
       "       'B0002IHFVM', 'B0002IHGZC', 'B0002IHP0S', 'B0002II6V0',\n",
       "       'B0002KYXTM', 'B0002KZAKS', 'B0002KZDN2', 'B0002KZE7C',\n",
       "       'B0002KZEAE', 'B0002KZEMC', 'B0002KZFYE', 'B0002KZHQA',\n",
       "       'B0002KZISM', 'B0002KZIV4', 'B0002KZIVY', 'B0002KZQ34',\n",
       "       'B0002M3OVI', 'B0002M6B2M', 'B0002M6CVC', 'B0002M6CW6',\n",
       "       'B0002M728Y', 'B0002M72JS', 'B0002MDTVS', 'B0002MJTZ8',\n",
       "       'B0002MSQVQ', 'B0002OOMU8', 'B0002OOMW6', 'B0002OP7VQ',\n",
       "       'B0002OS9FC', 'B0002PBS5Y', 'B0002PBS68', 'B0002PBS6I',\n",
       "       'B0002PBS6S', 'B0002T67J2', 'B0002Y6BJI', 'B0002Z2CZY',\n",
       "       'B0002Z2D08', 'B0002Z2D0I', 'B0002ZO3LK', 'B0002ZO60I',\n",
       "       'B0002ZPK0S', 'B0002ZPK5I', 'B00062GRXQ', 'B00063678K',\n",
       "       'B00064TZYW', 'B0006GR4L6', 'B0006H92QK', 'B0006IQNCK',\n",
       "       'B0006M59M6', 'B0006NDF6C', 'B0006NDF8A', 'B0006OHVK2',\n",
       "       'B0006VMBHI', 'B0006ZXFWO', 'B0006ZXFZQ', 'B0006ZXG00',\n",
       "       'B00074B67A', 'B00074WFO8', 'B0007GGUGA', 'B0007L8BQW',\n",
       "       'B0007NQH98', 'B0007OGTGS', 'B0007ORM0K', 'B0007SL86A',\n",
       "       'B0007WPCKE', 'B0007WQZGY', 'B0007XWUQ2', 'B0007Y3XGW',\n",
       "       'B0008G26JO', 'B00095VIMU', 'B000960KNW', 'B000978D58',\n",
       "       'B0009DXEEM', 'B0009EQMZE', 'B0009EQOES', 'B0009EU01G',\n",
       "       'B0009FUUO2', 'B0009G1E0K', 'B0009G1KEU', 'B0009H00WW',\n",
       "       'B0009IEB0I', 'B0009K9MUA', 'B0009RHAT8', 'B0009RLE5Y',\n",
       "       'B000A1HU1G', 'B000A2HDXA', 'B000A2HOB6', 'B000A6ASSS',\n",
       "       'B000A6GTDG', 'B000A6GY1I', 'B000AAGM0M', 'B000AC6DVS',\n",
       "       'B000AKSUP2', 'B000ARH3M6', 'B000B6DHAS', 'B000B6DHB2',\n",
       "       'B000B6FBA2', 'B000BBRZ3S', 'B000BKY8CU', 'B000BNSYHW',\n",
       "       'B000BQTCDO', 'B000BU5V58', 'B000BUDO48', 'B000BUGNNM',\n",
       "       'B000BW2D84', 'B000BWEM42', 'B000BYPJ1U', 'B000CBE3G4',\n",
       "       'B000CBE3GE', 'B000CBXZXG', 'B000CCIVCA', 'B000CCJP4I',\n",
       "       'B000CCMWVG', 'B000CD1R7K', 'B000CD1R84', 'B000CD3QY2',\n",
       "       'B000CDT4VQ', 'B000CHJTG2', 'B000CZ0RHY', 'B000CZ0RLK',\n",
       "       'B000CZ0RLU', 'B000E0PPG0', 'B000EE8YPK', 'B000EEEYCW',\n",
       "       'B000EEGAJW', 'B000EEHCUS', 'B000EEHD4I', 'B000EEHDIE',\n",
       "       'B000EEHJS8', 'B000EEHKVY', 'B000EEHMXA', 'B000EEHN9S',\n",
       "       'B000EEJ8IM', 'B000EEJAFS', 'B000EEJAWQ', 'B000EEJE4K',\n",
       "       'B000EEJF4O', 'B000EEJJ5Y', 'B000EEJJI6', 'B000EEK4VM',\n",
       "       'B000EEL50Q', 'B000EEL6J6', 'B000EEL8US', 'B000EELB8W',\n",
       "       'B000EELBQ4', 'B000EELFI8', 'B000EELFTW', 'B000EEN9OG',\n",
       "       'B000EENH5W', 'B000EPVXWU', 'B000EXIMFI', 'B000F3JO7M',\n",
       "       'B000FIZISQ', 'B000FZ1KF4', 'B000GUR8V8', 'B000H2BC4E',\n",
       "       'B000HVXMNE', 'B000IO8XFM', 'B000J3L02U', 'B000J5UEGQ',\n",
       "       'B000J5XS3C', 'B000J5Y214', 'B000J5Y282', 'B000JRPYGE',\n",
       "       'B000K69V5E', 'B000K6B4E0', 'B000KGYAYQ', 'B000KIPD5E',\n",
       "       'B000KIPT30', 'B000KIPTE4', 'B000KIPUQG', 'B000KIRT38',\n",
       "       'B000KIRT6A', 'B000KIRT74', 'B000KITQKM', 'B000KUCQXY',\n",
       "       'B000KW2YEI', 'B000KY156E', 'B000L3FPUG', 'B000L6GD04',\n",
       "       'B000L7MNUM', 'B000LAT0AK', 'B000LFCXL8', 'B000LPSNRQ',\n",
       "       'B000LPUV8K', 'B000LQLDM2', 'B000M23OQ8', 'B000MFK1ZW',\n",
       "       'B000MFN8B6', 'B000MO2QJM', 'B000MVYOZY', 'B000MWWT6E',\n",
       "       'B000N4WHYK', 'B000N5MK8M', 'B000N5YEDG', 'B000NE4UN6',\n",
       "       'B000NGVQKO', 'B000NJ2TIE', 'B000OMG0KI', 'B000OR2QX8',\n",
       "       'B000OR5928', 'B000OR88JE', 'B000OY4WA6', 'B000OY4WDI',\n",
       "       'B000OY707S', 'B000P5LVSK', 'B000P5NXWM', 'B000P5OUCE',\n",
       "       'B000P5OULA', 'B000P5RVRU', 'B000PAPO9W', 'B000PO30QM',\n",
       "       'B000PR3JEM', 'B000Q87DAQ', 'B000QGCJU2', 'B000RKAFIU',\n",
       "       'B000RKL8R2', 'B000RKVH0K', 'B000RMQM4E', 'B000RN53LQ',\n",
       "       'B000RNB720', 'B000RPUMII', 'B000RVWY42', 'B000RVYPQ2',\n",
       "       'B000RW0GT6', 'B000RW0O02', 'B000RW2DUQ', 'B000RWJQRE',\n",
       "       'B000RXN6SS', 'B000RXPN02', 'B000RY68PA', 'B000RYE5Y6',\n",
       "       'B000RYPN38', 'B000S5V510', 'B000SAC5PA', 'B000SJJCX4',\n",
       "       'B000SL0NCQ', 'B000SZVYLQ', 'B000T4PJC6', 'B000T4SI1K',\n",
       "       'B000T517Y4', 'B000T9NKEU', 'B000T9PE9E', 'B000TGHVGQ',\n",
       "       'B000TGSM6E', 'B000U0DU34', 'B000UF3SEA', 'B000UJCTVE',\n",
       "       'B000UJFR4A', 'B000UJHHLQ', 'B000ULAP4U', 'B000UMFQHA',\n",
       "       'B000V4YFLA', 'B000V8GA46', 'B000VBC5CY', 'B000VBH2IG',\n",
       "       'B000VJ2VCK', 'B000VJJQUU', 'B000VJZOLK', 'B000VOBU9U',\n",
       "       'B000VTPQWW', 'B000VTPR08', 'B000VUNEZM', 'B000VZYS66',\n",
       "       'B000W00X1Y', 'B000WF1AMU', 'B000WGJ71U', 'B000WN4J9S',\n",
       "       'B000WS1QC6', 'B000WYCS7M', 'B000X31R2E', 'B000XPO0IU',\n",
       "       'B000XPPR2S', 'B000XPPURU', 'B000XPQ1YG', 'B000XPRQIG',\n",
       "       'B000XPRSTI', 'B000XUUXB8', 'B000XXBHA6', 'B000Y30NAA',\n",
       "       'B000Y35C8S', 'B000Y60NFC', 'B000Y7Q2C4', 'B000ZJTPLG',\n",
       "       'B0010CAEFS', 'B0010CHS8E', 'B0010CZ8GS', 'B0010GNU9Q',\n",
       "       'B0010KCP98', 'B0010SHU18', 'B0011WHG5S', 'B00135HFK4',\n",
       "       'B0013PU75Y', 'B0013V1BYY', 'B0014IEBM0', 'B00154OJOI',\n",
       "       'B0015RIN6U', 'B0016MJ1T2', 'B0016ML1C2', 'B0016ZZKJO',\n",
       "       'B00178JDCK', 'B00178LDW8', 'B0017HZ47Y', 'B00186L9X2',\n",
       "       'B0018L46WS', 'B0018PZR86', 'B0018SJLFS', 'B0018TAITA',\n",
       "       'B0018TC3I4', 'B0018TG8HQ', 'B0018TIAA4', 'B0018TIADQ',\n",
       "       'B0018TIAL8', 'B00191WVF6', 'B0019H6750', 'B0019QJW2G',\n",
       "       'B001AH83UG', 'B001AS6OYC', 'B001BY4RQM', 'B001C74GLY',\n",
       "       'B001C9R5P6', 'B001CJ2QZU', 'B001D2TPZU', 'B001DW6RJC',\n",
       "       'B001E3BSKS', 'B001E3SFKO', 'B001E43SK0', 'B001EC5ECW',\n",
       "       'B001EL6I8W', 'B001ELP5WM', 'B001EW5YQS', 'B001EZIEVW',\n",
       "       'B001FB5Z44', 'B001FB5Z8K', 'B001FQ74FW', 'B001FSZR4U',\n",
       "       'B001G3TJXO', 'B001GD07SK', 'B001GGYF4E', 'B001GH4H3W',\n",
       "       'B001GWCC4I', 'B001HNE622', 'B001I1PWTY', 'B001I8ITQA',\n",
       "       'B001IM5KFY', 'B001J1JRN0', 'B001J1SX94', 'B001J5RYXQ',\n",
       "       'B001JI2KHS', 'B001KD2CPC', 'B001KXKGBY', 'B001L8IJ0I',\n",
       "       'B001L8IKLG', 'B001L8KE06', 'B001L8MDMS', 'B001L8NGJ2',\n",
       "       'B001L8PIFW', 'B001LJUVO4', 'B001LNN30E', 'B001M59AS0',\n",
       "       'B001MMYVZU', 'B001MSS6CS', 'B001NXDSK2', 'B001OLW0J8',\n",
       "       'B001OLZYUU', 'B001PGXHW6', 'B001PGXHX0', 'B001PGXHYO',\n",
       "       'B001PGXIHK', 'B001PGXJGU', 'B001PGXKC8', 'B001Q8DJO4',\n",
       "       'B001QJGYIG', 'B001QWBM62', 'B001R2LQWQ', 'B001R76D42',\n",
       "       'B001REJX1U', 'B001RMFSDE', 'B001RNH8YA', 'B001RNHE30',\n",
       "       'B001RNOHHG', 'B001SC4I16', 'B001U5PCFM', 'B001UJEKZ6',\n",
       "       'B001UYKGUE', 'B001V5K2S8', 'B001W99HE8', 'B001XJBWXG',\n",
       "       'B002024UDE', 'B0023BYDHK', 'B002433RXI', 'B0025PM6DM',\n",
       "       'B0025V1REU', 'B00267OCTA', 'B0026KEGLQ', 'B0026RB0G8',\n",
       "       'B0027842S4', 'B0027M30Z6', 'B0027V760M', 'B002AQNGIU',\n",
       "       'B002B8EWVW', 'B002C4SM5W', 'B002C741B8', 'B002C741BI',\n",
       "       'B002CMLPYY', 'B002DC8OE2', 'B002DYJEMQ', 'B002EWV8IU',\n",
       "       'B002EWV8NA', 'B002G1UT5C', 'B002GHBZ4U', 'B002GYWBIM',\n",
       "       'B002GYWBJ6', 'B002GYWBKU', 'B002HFC6P8', 'B002HJ61PK',\n",
       "       'B002HPMTZU', 'B002IC1D5E', 'B002IJK0H4', 'B002KDHBRU',\n",
       "       'B002M8EEW8', 'B002M8GBDI', 'B002MWKOAA', 'B002N4GBLI',\n",
       "       'B002NG7DEK', 'B002PAW6EG', 'B002PMHAVS', 'B002Q0WSO8',\n",
       "       'B002Q0WT6U', 'B002QJVTNA', 'B002QKRUJG', 'B002QQC1ZI',\n",
       "       'B002R2IUEW', 'B002RLLD88', 'B002T45X1G', 'B002UXS4JO',\n",
       "       'B002VA464S', 'B002X8Y4SQ', 'B002Z9JWZ8', 'B002ZH9JQC',\n",
       "       'B00315D0E4', 'B0033P1O6S', 'B0033PSGSW', 'B0033PSLSM',\n",
       "       'B00352MHGA', 'B0035LCFRW', 'B00378GEAM', 'B0037GXRHM',\n",
       "       'B0037M4CPM', 'B0037M62AK', 'B0037M62JQ', 'B0037M62KA',\n",
       "       'B0037M62M8', 'B0037MA77E', 'B0037MC786', 'B0037ME50Y',\n",
       "       'B00389KMQM', 'B0038MTH8S', 'B0038O9NLM', 'B0039HBNMA',\n",
       "       'B003AAEGZ2', 'B003AJMPW4', 'B003AM913C', 'B003AYC1SM',\n",
       "       'B003AYEAHC', 'B003AYJU5O', 'B003AYK8XW', 'B003AYNFRS',\n",
       "       'B003AYNHGW', 'B003AYPT8G', 'B003AYRBWI', 'B003B01QL8',\n",
       "       'B003B01QR2', 'B003B0I09Y', 'B003BFYDBS', 'B003BGO2OK',\n",
       "       'B003CLIPHO', 'B003D3OCD2', 'B003DVGVIS', 'B003FO6E6M',\n",
       "       'B003FVB7XA', 'B003FW0IHA', 'B003GEBGA0', 'B003HGFRO8',\n",
       "       'B003JJQMD8', 'B003K16N0C', 'B003KJ0ZD0', 'B003KQY8DQ',\n",
       "       'B003LTJ404', 'B003LZ2IT2', 'B003NJF1G8', 'B003OG9NH8',\n",
       "       'B003OUX8ZM', 'B003PC2XQE', 'B003QTM9O2', 'B003S3S0DU',\n",
       "       'B003SZDFM4', 'B003U3LUOY', 'B003VWJ2K8', 'B003VWKPHC',\n",
       "       'B003VYBD58', 'B003VYBNLW', 'B003W47NII', 'B003WZ6VVM',\n",
       "       'B003XDUAOM', 'B003Y3ASW0', 'B003YVRGN6', 'B0040O49OU',\n",
       "       'B0040ZBI52', 'B0041T53KI', 'B0042EZH6W', 'B0042F1L4S',\n",
       "       'B0043RZ9QQ', 'B0044R1M0M', 'B00466HLXI', 'B00466HM28',\n",
       "       'B0046A04LU', 'B0049Z4UQ2', 'B004BZU4OW', 'B004FEBS8K',\n",
       "       'B004FEGXDK', 'B004FODY6E', 'B004FPEF84', 'B004FRHKA2',\n",
       "       'B004GYM7IE', 'B004GYOZ6G', 'B004HJ58JI', 'B004HJ9COU',\n",
       "       'B004INGEB4', 'B004ISK48S', 'B004ISLGKS', 'B004J27QXY',\n",
       "       'B004LG93KC', 'B004M8UZS8', 'B004M9CKVM', 'B004MF39YS',\n",
       "       'B004MM6RWM', 'B004MNTIL8', 'B004N0MKN8', 'B004N6RBWW',\n",
       "       'B004OK17QS', 'B004OK1G64', 'B004OU2IQG', 'B004PFWYL4',\n",
       "       'B004PFWZHM', 'B004PG1A4A', 'B004T6M7DE', 'B004TE5HBU',\n",
       "       'B004TGVRDA', 'B004TQJ174', 'B004U1QDL0', 'B004UJO41S',\n",
       "       'B004UNL1P6', 'B004VDD4KK', 'B004XNK7AI', 'B004Z17008',\n",
       "       'B004Z8VQ2O', 'B004ZKIHVU', 'B004ZKY10Q', 'B0050ALN2E',\n",
       "       'B0050CEEIW', 'B0051WAJ5S', 'B0052FU602', 'B0052S3WFU',\n",
       "       'B0053CUHMG', 'B0055V7UR0', 'B0058GZTVG', 'B005A09I7Q',\n",
       "       'B005AGGZ8K', 'B005BSOVRY', 'B005CERXFO', 'B005CX4GLE',\n",
       "       'B005DVF15A', 'B005E0CPNG', 'B005EHILV4', 'B005F3H6Q8',\n",
       "       'B005FIFM14', 'B005FKF1PY', 'B005FKF3L6', 'B005FKF3N4',\n",
       "       'B005GZ86ZA', 'B005H2007E', 'B005IGFGWI', 'B005IVUWDG',\n",
       "       'B005J2PXV0', 'B005J9FS0Y', 'B005LYIW3W', 'B005M0CK9M',\n",
       "       'B005M0KLGQ', 'B005M0MUQK', 'B005M0TKL8', 'B005MR6IHK',\n",
       "       'B005NACC6M', 'B005OZE9SA', 'B005PGGU9O', 'B005PNXT6E',\n",
       "       'B005SUS1JO', 'B005T800V2', 'B005TO9EPY', 'B005VLR6XC',\n",
       "       'B005VLWHP4', 'B005VM5Z5C', 'B005ZV5K0O', 'B00646MZHK',\n",
       "       'B0064BFNME', 'B0064RDPVE', 'B0064RFT4A', 'B0064RIB9A',\n",
       "       'B006H5119Q', 'B006X0UCKY', 'B006X735PQ', 'B006Y2FUW6',\n",
       "       'B0073XCXHA', 'B0073XCYO2', 'B0073XCZ3C', 'B0078YF9V6',\n",
       "       'B0079KQEOK', 'B007BY2F7O', 'B007IE5QP0', 'B007IHYBV2',\n",
       "       'B007J49GPK', 'B007K3EGWI', 'B007K3EGXW', 'B007PKR3SK',\n",
       "       'B007Q27BH0', 'B007Q28BHE', 'B007T8CUNG', 'B007T8KI6M',\n",
       "       'B007T8OGLK', 'B007TGWQZ0', 'B007XH9432', 'B007YWHIP2',\n",
       "       'B008277N80', 'B0087UPSLQ', 'B008AOH1O6', 'B008BPI2HE',\n",
       "       'B008BTTQI4', 'B008GS3XLQ', 'B008GS9UNQ', 'B008IYUF96',\n",
       "       'B008LMS4MK', 'B008O0RKVA', 'B008TNAG4A', 'B00923G9Q0',\n",
       "       'B0097WDJZA', 'B0098DFNY8', 'B009AS1FLG', 'B009E3EWPI',\n",
       "       'B009EOKTCM', 'B009GT0KNI', 'B009MBT68U', 'B009MDMQJ4',\n",
       "       'B009MIBIWK', 'B009O7CE5O', 'B009S814U0', 'B009ZX8ZJG',\n",
       "       'B00A270KYM', 'B00A716FB0', 'B00AHEWBM4', 'B00AK7SKL4',\n",
       "       'B00AQBT3EW', 'B00AZUAORE', 'B00B1N06PO', 'B00B5LDMH6',\n",
       "       'B00B5OY8EE', 'B00B9060X6', 'B00BG6ZM0K', 'B00BHJNC4E',\n",
       "       'B00BHK2UHI', 'B00BKXN9LS', 'B00BL6IYW8', 'B00BL6JDUA',\n",
       "       'B00BLQ7M4E', 'B00BLQTZDA', 'B00BTGMI5O', 'B00BU9KCXK',\n",
       "       'B00C5B20QE', 'B00CDA0IUC', 'B00CFMWBLC', 'B00CK2FOZM',\n",
       "       'B00E0EXYMS', 'B00EIMZG46', 'B00EPWAQS0', 'B00EQDITGO',\n",
       "       'B00F2PKRJW', 'B00FXKIG5I', 'B00GTSM8FW', 'B00H02C9TG',\n",
       "       'B00HFRXACG', 'B00IZCSW3M', 'B00J4TBMVO', 'B00JBIVXGC'],\n",
       "      dtype=object)"
      ]
     },
     "execution_count": 7,
     "metadata": {},
     "output_type": "execute_result"
    }
   ],
   "source": [
    "data['asin'].unique()"
   ]
  },
  {
   "cell_type": "code",
   "execution_count": 8,
   "metadata": {
    "colab": {
     "base_uri": "https://localhost:8080/"
    },
    "id": "MijyZ2nfxqjD",
    "outputId": "3e95be8c-8c14-4980-ec35-1d63fdc8ff4e"
   },
   "outputs": [
    {
     "data": {
      "text/plain": [
       "B003VWJ2K8    163\n",
       "B0002E1G5C    143\n",
       "B0002F7K7Y    116\n",
       "B003VWKPHC    114\n",
       "B0002H0A3S     93\n",
       "             ... \n",
       "B0002E2VXS      5\n",
       "B000NE4UN6      5\n",
       "B001BY4RQM      5\n",
       "B0002GZQ1U      5\n",
       "B009GT0KNI      5\n",
       "Name: asin, Length: 900, dtype: int64"
      ]
     },
     "execution_count": 8,
     "metadata": {},
     "output_type": "execute_result"
    }
   ],
   "source": [
    "data['asin'].value_counts()"
   ]
  },
  {
   "cell_type": "code",
   "execution_count": 7,
   "metadata": {
    "colab": {
     "base_uri": "https://localhost:8080/",
     "height": 35
    },
    "id": "U_jgc3RUtxyw",
    "outputId": "ee4101ff-3e3a-41c2-9e6c-6cdacab0d25f"
   },
   "outputs": [
    {
     "data": {
      "text/plain": [
       "'!\"#$%&\\'()*+,-./:;<=>?@[\\\\]^_`{|}~'"
      ]
     },
     "execution_count": 7,
     "metadata": {},
     "output_type": "execute_result"
    }
   ],
   "source": [
    "import string\n",
    "string.punctuation"
   ]
  },
  {
   "cell_type": "code",
   "execution_count": 12,
   "metadata": {
    "colab": {
     "base_uri": "https://localhost:8080/"
    },
    "id": "yI9_jIkcvtrd",
    "outputId": "f03dbd79-f75c-4040-8dee-0e95d9540d9f"
   },
   "outputs": [
    {
     "name": "stderr",
     "output_type": "stream",
     "text": [
      "[nltk_data] Downloading package stopwords to\n",
      "[nltk_data]     C:\\Users\\muska\\AppData\\Roaming\\nltk_data...\n",
      "[nltk_data]   Package stopwords is already up-to-date!\n"
     ]
    }
   ],
   "source": [
    "import nltk # Natural Language tool kit \n",
    "nltk.download('stopwords')\n",
    "from nltk.corpus import stopwords"
   ]
  },
  {
   "cell_type": "code",
   "execution_count": 11,
   "metadata": {
    "colab": {
     "base_uri": "https://localhost:8080/"
    },
    "id": "FY2lHqiPwb-2",
    "outputId": "0565d322-59fb-4478-c167-d4118b9633af"
   },
   "outputs": [
    {
     "data": {
      "text/plain": [
       "['much',\n",
       " 'write',\n",
       " 'exactly',\n",
       " 'supposed',\n",
       " 'filters',\n",
       " 'pop',\n",
       " 'sounds',\n",
       " 'recordings',\n",
       " 'much',\n",
       " 'crisp',\n",
       " 'one',\n",
       " 'lowest',\n",
       " 'prices',\n",
       " 'pop',\n",
       " 'filters',\n",
       " 'amazon',\n",
       " 'might',\n",
       " 'well',\n",
       " 'buy',\n",
       " 'honestly',\n",
       " 'work',\n",
       " 'despite',\n",
       " 'pricing']"
      ]
     },
     "execution_count": 11,
     "metadata": {},
     "output_type": "execute_result"
    }
   ],
   "source": [
    "message=data.reviewText[0]\n",
    "Test_punc_removed = [char for char in message if char not in string.punctuation]\n",
    "Test_punc_removed_join = ''.join(Test_punc_removed)\n",
    "Test_punc_removed_join_clean = [word for word in Test_punc_removed_join.split() if word.lower() not in stopwords.words('english')]\n",
    "Test_punc_removed_join_clean"
   ]
  },
  {
   "cell_type": "code",
   "execution_count": 13,
   "metadata": {
    "id": "1LuZrCANu8ud"
   },
   "outputs": [],
   "source": [
    "def message_cleaning(message):\n",
    "    Test_punc_removed = [char for char in message if char not in string.punctuation]\n",
    "    Test_punc_removed_join = ''.join(Test_punc_removed)\n",
    "    Test_punc_removed_join_clean = [word for word in Test_punc_removed_join.split() if word.lower() not in stopwords.words('english')]\n",
    "    return Test_punc_removed_join_clean"
   ]
  },
  {
   "cell_type": "code",
   "execution_count": 13,
   "metadata": {
    "colab": {
     "base_uri": "https://localhost:8080/"
    },
    "id": "Wm3SRSDbvW1b",
    "outputId": "abb3c494-33a3-4bc4-c200-7fd02340dccd"
   },
   "outputs": [
    {
     "data": {
      "text/plain": [
       "['much',\n",
       " 'write',\n",
       " 'exactly',\n",
       " 'supposed',\n",
       " 'filters',\n",
       " 'pop',\n",
       " 'sounds',\n",
       " 'recordings',\n",
       " 'much',\n",
       " 'crisp',\n",
       " 'one',\n",
       " 'lowest',\n",
       " 'prices',\n",
       " 'pop',\n",
       " 'filters',\n",
       " 'amazon',\n",
       " 'might',\n",
       " 'well',\n",
       " 'buy',\n",
       " 'honestly',\n",
       " 'work',\n",
       " 'despite',\n",
       " 'pricing']"
      ]
     },
     "execution_count": 13,
     "metadata": {},
     "output_type": "execute_result"
    }
   ],
   "source": [
    "tmp= data['reviewText']\n",
    "message_cleaning(tmp[0])"
   ]
  },
  {
   "cell_type": "code",
   "execution_count": 14,
   "metadata": {
    "id": "8AO_pm_BxZ_J"
   },
   "outputs": [],
   "source": [
    "tmp= data['reviewText'].astype('str')"
   ]
  },
  {
   "cell_type": "code",
   "execution_count": 15,
   "metadata": {
    "id": "gIr7PPu62kSL"
   },
   "outputs": [],
   "source": [
    "data['clean']=tmp.apply(message_cleaning)"
   ]
  },
  {
   "cell_type": "code",
   "execution_count": null,
   "metadata": {
    "colab": {
     "base_uri": "https://localhost:8080/"
    },
    "id": "wd5f3ZioHT5g",
    "outputId": "c7554234-696e-4e76-c18a-f6a6b9704a37"
   },
   "outputs": [
    {
     "data": {
      "text/plain": [
       "dtype('O')"
      ]
     },
     "execution_count": 17,
     "metadata": {},
     "output_type": "execute_result"
    }
   ],
   "source": [
    "data['clean'].dtypes"
   ]
  },
  {
   "cell_type": "code",
   "execution_count": 16,
   "metadata": {
    "colab": {
     "base_uri": "https://localhost:8080/"
    },
    "id": "u3CpYIB3vgkM",
    "outputId": "a147ab6c-4bb5-4106-f5a1-76bfb363f3e7"
   },
   "outputs": [
    {
     "name": "stdout",
     "output_type": "stream",
     "text": [
      "give:give\n",
      "giving:give\n",
      "given:given\n",
      "gave:gave\n"
     ]
    }
   ],
   "source": [
    "#porter stemmer\n",
    "from nltk.stem import PorterStemmer\n",
    "pst = PorterStemmer()\n",
    "word_to_stem = [\"give\",\"giving\", \"given\", 'gave']\n",
    "for word in word_to_stem:\n",
    "    print(word + \":\" + pst.stem(word))"
   ]
  },
  {
   "cell_type": "code",
   "execution_count": 17,
   "metadata": {
    "colab": {
     "base_uri": "https://localhost:8080/"
    },
    "id": "_VDcCny7DZk5",
    "outputId": "6e25410a-0806-4db0-dab2-fa3ccb2e6df7"
   },
   "outputs": [
    {
     "name": "stderr",
     "output_type": "stream",
     "text": [
      "[nltk_data] Downloading package wordnet to\n",
      "[nltk_data]     C:\\Users\\muska\\AppData\\Roaming\\nltk_data...\n",
      "[nltk_data]   Unzipping corpora\\wordnet.zip.\n"
     ]
    },
    {
     "data": {
      "text/plain": [
       "True"
      ]
     },
     "execution_count": 17,
     "metadata": {},
     "output_type": "execute_result"
    }
   ],
   "source": [
    "from nltk.stem import WordNetLemmatizer\n",
    "word_lem = WordNetLemmatizer()\n",
    "nltk.download('wordnet')"
   ]
  },
  {
   "cell_type": "code",
   "execution_count": null,
   "metadata": {
    "colab": {
     "base_uri": "https://localhost:8080/"
    },
    "id": "UaIOmFp8FB3v",
    "outputId": "4a02bc20-f508-4014-c2cd-5cbb098822f5"
   },
   "outputs": [
    {
     "name": "stdout",
     "output_type": "stream",
     "text": [
      "Affectations:affect\n",
      "Affectation:affect\n",
      "Affects:affect\n",
      "Affections:affect\n",
      "Affection:affect\n",
      "Affecting:affect\n"
     ]
    }
   ],
   "source": [
    "word = [\"Affectations\",\"Affectation\",\"Affects\",\"Affections\",\"Affection\",\"Affecting\" ]\n",
    "for w in word:\n",
    "    print(w + \":\" + pst.stem(w))"
   ]
  },
  {
   "cell_type": "code",
   "execution_count": null,
   "metadata": {
    "colab": {
     "base_uri": "https://localhost:8080/",
     "height": 35
    },
    "id": "d3RFnDcIFMW7",
    "outputId": "b8662474-9b43-4c79-e2d9-8ad31d698e0c"
   },
   "outputs": [
    {
     "data": {
      "application/vnd.google.colaboratory.intrinsic+json": {
       "type": "string"
      },
      "text/plain": [
       "'corpus'"
      ]
     },
     "execution_count": 21,
     "metadata": {},
     "output_type": "execute_result"
    }
   ],
   "source": [
    "word_lem.lemmatize('corpora')"
   ]
  },
  {
   "cell_type": "code",
   "execution_count": 76,
   "metadata": {
    "id": "_-f-I6rqFvSJ"
   },
   "outputs": [],
   "source": [
    "def clean_data(line):\n",
    "    ans=''\n",
    "    for w in line:\n",
    "        w=word_lem.lemmatize(w)\n",
    "        #print (w)\n",
    "        tmp=pst.stem(w)\n",
    "        #tmp=tmp.strip()\n",
    "        #print(tmp)\n",
    "        #tmp.dtype\n",
    "        ans=ans+tmp+\" \"\n",
    "        #print(ans)\n",
    "    return ans\n",
    "#['words', 'in', 'line']"
   ]
  },
  {
   "cell_type": "code",
   "execution_count": 77,
   "metadata": {},
   "outputs": [
    {
     "data": {
      "text/plain": [
       "23"
      ]
     },
     "execution_count": 77,
     "metadata": {},
     "output_type": "execute_result"
    }
   ],
   "source": [
    "len(data.clean[0])"
   ]
  },
  {
   "cell_type": "code",
   "execution_count": 78,
   "metadata": {
    "id": "O0xHX_49tL8s"
   },
   "outputs": [
    {
     "data": {
      "text/plain": [
       "'much write exactli suppos filter pop sound record much crisp one lowest price pop filter amazon might well buy honestli work despit price '"
      ]
     },
     "execution_count": 78,
     "metadata": {},
     "output_type": "execute_result"
    }
   ],
   "source": [
    "clean_data(data.clean[0])"
   ]
  },
  {
   "cell_type": "code",
   "execution_count": null,
   "metadata": {
    "id": "6TBgLofPG-eE"
   },
   "outputs": [],
   "source": [
    "data['lemstem'] = data['clean'].apply(clean_data)"
   ]
  },
  {
   "cell_type": "markdown",
   "metadata": {
    "id": "yXd3zpTEiL32"
   },
   "source": [
    "Trial code 0"
   ]
  },
  {
   "cell_type": "code",
   "execution_count": null,
   "metadata": {
    "id": "HFfur1OoHiuW"
   },
   "outputs": [],
   "source": [
    "import gensim\n",
    "from gensim.utils import simple_preprocess"
   ]
  },
  {
   "cell_type": "code",
   "execution_count": null,
   "metadata": {
    "id": "R0ak4I7llgD9"
   },
   "outputs": [],
   "source": [
    "processed_docs = data['clean'].map(clean_data)"
   ]
  },
  {
   "cell_type": "code",
   "execution_count": null,
   "metadata": {
    "colab": {
     "base_uri": "https://localhost:8080/"
    },
    "id": "MW6OqTgvoet7",
    "outputId": "3d24b22d-e49b-4f90-b6b0-b5ab790f0521"
   },
   "outputs": [
    {
     "data": {
      "text/plain": [
       "0    [much, write, exactli, suppos, filter, pop, so...\n",
       "1    [product, exactli, quit, affordablei, realiz, ...\n",
       "2    [primari, job, devic, block, breath, would, ot...\n",
       "3    [nice, windscreen, protect, mxl, mic, prevent,...\n",
       "4    [pop, filter, great, look, perform, like, stud...\n",
       "5    [good, bought, anoth, one, love, heavi, cord, ...\n",
       "6    [use, monster, cabl, year, good, reason, lifet...\n",
       "7    [use, cabl, run, output, pedal, chain, input, ...\n",
       "8    [perfect, epiphon, sheraton, II, monster, cabl...\n",
       "9    [monster, make, best, cabl, lifetim, warranti,...\n",
       "Name: clean, dtype: object"
      ]
     },
     "execution_count": 26,
     "metadata": {},
     "output_type": "execute_result"
    }
   ],
   "source": [
    "processed_docs[:10]"
   ]
  },
  {
   "cell_type": "code",
   "execution_count": null,
   "metadata": {
    "colab": {
     "base_uri": "https://localhost:8080/"
    },
    "id": "Rn21cPKao1N_",
    "outputId": "18c79b8d-576a-418d-b709-3d11c63c64bb"
   },
   "outputs": [
    {
     "data": {
      "text/plain": [
       "0    [much, write, exactli, suppos, filter, pop, so...\n",
       "1    [product, exactli, quit, affordablei, realiz, ...\n",
       "2    [primari, job, devic, block, breath, would, ot...\n",
       "3    [nice, windscreen, protect, mxl, mic, prevent,...\n",
       "4    [pop, filter, great, look, perform, like, stud...\n",
       "Name: lemstem, dtype: object"
      ]
     },
     "execution_count": 27,
     "metadata": {},
     "output_type": "execute_result"
    }
   ],
   "source": [
    "data['lemstem'][0:5]"
   ]
  },
  {
   "cell_type": "code",
   "execution_count": null,
   "metadata": {
    "colab": {
     "base_uri": "https://localhost:8080/"
    },
    "id": "sVj3_Bzvo-_u",
    "outputId": "bfe61045-6694-488f-ee43-523de8f1e88d"
   },
   "outputs": [
    {
     "data": {
      "text/plain": [
       "0    [much, write, exactly, supposed, filters, pop,...\n",
       "1    [product, exactly, quite, affordableI, realize...\n",
       "2    [primary, job, device, block, breath, would, o...\n",
       "3    [Nice, windscreen, protects, MXL, mic, prevent...\n",
       "4    [pop, filter, great, looks, performs, like, st...\n",
       "Name: clean, dtype: object"
      ]
     },
     "execution_count": 28,
     "metadata": {},
     "output_type": "execute_result"
    }
   ],
   "source": [
    "data['clean'][0:5]"
   ]
  },
  {
   "cell_type": "code",
   "execution_count": null,
   "metadata": {
    "colab": {
     "base_uri": "https://localhost:8080/"
    },
    "id": "sM7Ov2qapC5y",
    "outputId": "137b395e-8998-4e2b-b477-b9327dea9b93"
   },
   "outputs": [
    {
     "data": {
      "text/plain": [
       "['[',\n",
       " \"'\",\n",
       " 'p',\n",
       " 'r',\n",
       " 'o',\n",
       " 'd',\n",
       " 'u',\n",
       " 'c',\n",
       " 't',\n",
       " \"'\",\n",
       " ',',\n",
       " ' ',\n",
       " \"'\",\n",
       " 'e',\n",
       " 'x',\n",
       " 'a',\n",
       " 'c',\n",
       " 't',\n",
       " 'l',\n",
       " 'y',\n",
       " \"'\",\n",
       " ',',\n",
       " ' ',\n",
       " \"'\",\n",
       " 'q',\n",
       " 'u',\n",
       " 'i',\n",
       " 't',\n",
       " 'e',\n",
       " \"'\",\n",
       " ',',\n",
       " ' ',\n",
       " \"'\",\n",
       " 'a',\n",
       " 'f',\n",
       " 'f',\n",
       " 'o',\n",
       " 'r',\n",
       " 'd',\n",
       " 'a',\n",
       " 'b',\n",
       " 'l',\n",
       " 'e',\n",
       " 'I',\n",
       " \"'\",\n",
       " ',',\n",
       " ' ',\n",
       " \"'\",\n",
       " 'r',\n",
       " 'e',\n",
       " 'a',\n",
       " 'l',\n",
       " 'i',\n",
       " 'z',\n",
       " 'e',\n",
       " 'd',\n",
       " \"'\",\n",
       " ',',\n",
       " ' ',\n",
       " \"'\",\n",
       " 'd',\n",
       " 'o',\n",
       " 'u',\n",
       " 'b',\n",
       " 'l',\n",
       " 'e',\n",
       " \"'\",\n",
       " ',',\n",
       " ' ',\n",
       " \"'\",\n",
       " 's',\n",
       " 'c',\n",
       " 'r',\n",
       " 'e',\n",
       " 'e',\n",
       " 'n',\n",
       " 'e',\n",
       " 'd',\n",
       " \"'\",\n",
       " ',',\n",
       " ' ',\n",
       " \"'\",\n",
       " 'a',\n",
       " 'r',\n",
       " 'r',\n",
       " 'i',\n",
       " 'v',\n",
       " 'e',\n",
       " 'd',\n",
       " \"'\",\n",
       " ',',\n",
       " ' ',\n",
       " \"'\",\n",
       " 'e',\n",
       " 'v',\n",
       " 'e',\n",
       " 'n',\n",
       " \"'\",\n",
       " ',',\n",
       " ' ',\n",
       " \"'\",\n",
       " 'b',\n",
       " 'e',\n",
       " 't',\n",
       " 't',\n",
       " 'e',\n",
       " 'r',\n",
       " \"'\",\n",
       " ',',\n",
       " ' ',\n",
       " \"'\",\n",
       " 'e',\n",
       " 'x',\n",
       " 'p',\n",
       " 'e',\n",
       " 'c',\n",
       " 't',\n",
       " 'e',\n",
       " 'd',\n",
       " 'A',\n",
       " 's',\n",
       " \"'\",\n",
       " ',',\n",
       " ' ',\n",
       " \"'\",\n",
       " 'a',\n",
       " 'd',\n",
       " 'd',\n",
       " 'e',\n",
       " 'd',\n",
       " \"'\",\n",
       " ',',\n",
       " ' ',\n",
       " \"'\",\n",
       " 'b',\n",
       " 'o',\n",
       " 'n',\n",
       " 'u',\n",
       " 's',\n",
       " \"'\",\n",
       " ',',\n",
       " ' ',\n",
       " \"'\",\n",
       " 'o',\n",
       " 'n',\n",
       " 'e',\n",
       " \"'\",\n",
       " ',',\n",
       " ' ',\n",
       " \"'\",\n",
       " 's',\n",
       " 'c',\n",
       " 'r',\n",
       " 'e',\n",
       " 'e',\n",
       " 'n',\n",
       " 's',\n",
       " \"'\",\n",
       " ',',\n",
       " ' ',\n",
       " \"'\",\n",
       " 'c',\n",
       " 'a',\n",
       " 'r',\n",
       " 'r',\n",
       " 'i',\n",
       " 'e',\n",
       " 's',\n",
       " \"'\",\n",
       " ',',\n",
       " ' ',\n",
       " \"'\",\n",
       " 's',\n",
       " 'm',\n",
       " 'a',\n",
       " 'l',\n",
       " 'l',\n",
       " \"'\",\n",
       " ',',\n",
       " ' ',\n",
       " \"'\",\n",
       " 'h',\n",
       " 'i',\n",
       " 'n',\n",
       " 't',\n",
       " \"'\",\n",
       " ',',\n",
       " ' ',\n",
       " \"'\",\n",
       " 's',\n",
       " 'm',\n",
       " 'e',\n",
       " 'l',\n",
       " 'l',\n",
       " \"'\",\n",
       " ',',\n",
       " ' ',\n",
       " \"'\",\n",
       " 'o',\n",
       " 'l',\n",
       " 'd',\n",
       " \"'\",\n",
       " ',',\n",
       " ' ',\n",
       " \"'\",\n",
       " 'g',\n",
       " 'r',\n",
       " 'a',\n",
       " 'p',\n",
       " 'e',\n",
       " \"'\",\n",
       " ',',\n",
       " ' ',\n",
       " \"'\",\n",
       " 'c',\n",
       " 'a',\n",
       " 'n',\n",
       " 'd',\n",
       " 'y',\n",
       " \"'\",\n",
       " ',',\n",
       " ' ',\n",
       " \"'\",\n",
       " 'u',\n",
       " 's',\n",
       " 'e',\n",
       " 'd',\n",
       " \"'\",\n",
       " ',',\n",
       " ' ',\n",
       " \"'\",\n",
       " 'b',\n",
       " 'u',\n",
       " 'y',\n",
       " \"'\",\n",
       " ',',\n",
       " ' ',\n",
       " \"'\",\n",
       " 'r',\n",
       " 'e',\n",
       " 'm',\n",
       " 'i',\n",
       " 'n',\n",
       " 'i',\n",
       " 's',\n",
       " 'c',\n",
       " 'e',\n",
       " 'n',\n",
       " 't',\n",
       " 's',\n",
       " \"'\",\n",
       " ',',\n",
       " ' ',\n",
       " \"'\",\n",
       " 's',\n",
       " 'a',\n",
       " 'k',\n",
       " 'e',\n",
       " \"'\",\n",
       " ',',\n",
       " ' ',\n",
       " \"'\",\n",
       " 'c',\n",
       " 'a',\n",
       " 'n',\n",
       " 'n',\n",
       " 'o',\n",
       " 't',\n",
       " \"'\",\n",
       " ',',\n",
       " ' ',\n",
       " \"'\",\n",
       " 's',\n",
       " 't',\n",
       " 'o',\n",
       " 'p',\n",
       " \"'\",\n",
       " ',',\n",
       " ' ',\n",
       " \"'\",\n",
       " 'p',\n",
       " 'u',\n",
       " 't',\n",
       " 't',\n",
       " 'i',\n",
       " 'n',\n",
       " 'g',\n",
       " \"'\",\n",
       " ',',\n",
       " ' ',\n",
       " \"'\",\n",
       " 'p',\n",
       " 'o',\n",
       " 'p',\n",
       " \"'\",\n",
       " ',',\n",
       " ' ',\n",
       " \"'\",\n",
       " 'f',\n",
       " 'i',\n",
       " 'l',\n",
       " 't',\n",
       " 'e',\n",
       " 'r',\n",
       " \"'\",\n",
       " ',',\n",
       " ' ',\n",
       " \"'\",\n",
       " 'n',\n",
       " 'e',\n",
       " 'x',\n",
       " 't',\n",
       " \"'\",\n",
       " ',',\n",
       " ' ',\n",
       " \"'\",\n",
       " 'n',\n",
       " 'o',\n",
       " 's',\n",
       " 'e',\n",
       " \"'\",\n",
       " ',',\n",
       " ' ',\n",
       " \"'\",\n",
       " 's',\n",
       " 'm',\n",
       " 'e',\n",
       " 'l',\n",
       " 'l',\n",
       " 'i',\n",
       " 'n',\n",
       " 'g',\n",
       " \"'\",\n",
       " ',',\n",
       " ' ',\n",
       " \"'\",\n",
       " 'r',\n",
       " 'e',\n",
       " 'c',\n",
       " 'o',\n",
       " 'r',\n",
       " 'd',\n",
       " 'i',\n",
       " 'n',\n",
       " 'g',\n",
       " \"'\",\n",
       " ',',\n",
       " ' ',\n",
       " \"'\",\n",
       " 'D',\n",
       " 'I',\n",
       " 'f',\n",
       " \"'\",\n",
       " ',',\n",
       " ' ',\n",
       " \"'\",\n",
       " 'n',\n",
       " 'e',\n",
       " 'e',\n",
       " 'd',\n",
       " 'e',\n",
       " 'd',\n",
       " \"'\",\n",
       " ',',\n",
       " ' ',\n",
       " \"'\",\n",
       " 'p',\n",
       " 'o',\n",
       " 'p',\n",
       " \"'\",\n",
       " ',',\n",
       " ' ',\n",
       " \"'\",\n",
       " 'f',\n",
       " 'i',\n",
       " 'l',\n",
       " 't',\n",
       " 'e',\n",
       " 'r',\n",
       " \"'\",\n",
       " ',',\n",
       " ' ',\n",
       " \"'\",\n",
       " 'w',\n",
       " 'o',\n",
       " 'r',\n",
       " 'k',\n",
       " \"'\",\n",
       " ',',\n",
       " ' ',\n",
       " \"'\",\n",
       " 'w',\n",
       " 'e',\n",
       " 'l',\n",
       " 'l',\n",
       " \"'\",\n",
       " ',',\n",
       " ' ',\n",
       " \"'\",\n",
       " 'e',\n",
       " 'x',\n",
       " 'p',\n",
       " 'e',\n",
       " 'n',\n",
       " 's',\n",
       " 'i',\n",
       " 'v',\n",
       " 'e',\n",
       " \"'\",\n",
       " ',',\n",
       " ' ',\n",
       " \"'\",\n",
       " 'o',\n",
       " 'n',\n",
       " 'e',\n",
       " 's',\n",
       " \"'\",\n",
       " ',',\n",
       " ' ',\n",
       " \"'\",\n",
       " 'm',\n",
       " 'a',\n",
       " 'y',\n",
       " \"'\",\n",
       " ',',\n",
       " ' ',\n",
       " \"'\",\n",
       " 'e',\n",
       " 'v',\n",
       " 'e',\n",
       " 'n',\n",
       " \"'\",\n",
       " ',',\n",
       " ' ',\n",
       " \"'\",\n",
       " 'c',\n",
       " 'o',\n",
       " 'm',\n",
       " 'e',\n",
       " \"'\",\n",
       " ',',\n",
       " ' ',\n",
       " \"'\",\n",
       " 'p',\n",
       " 'l',\n",
       " 'e',\n",
       " 'a',\n",
       " 's',\n",
       " 'i',\n",
       " 'n',\n",
       " 'g',\n",
       " \"'\",\n",
       " ',',\n",
       " ' ',\n",
       " \"'\",\n",
       " 'a',\n",
       " 'r',\n",
       " 'o',\n",
       " 'm',\n",
       " 'a',\n",
       " \"'\",\n",
       " ',',\n",
       " ' ',\n",
       " \"'\",\n",
       " 'l',\n",
       " 'i',\n",
       " 'k',\n",
       " 'e',\n",
       " \"'\",\n",
       " ',',\n",
       " ' ',\n",
       " \"'\",\n",
       " 'm',\n",
       " 'i',\n",
       " 'n',\n",
       " 'e',\n",
       " \"'\",\n",
       " ',',\n",
       " ' ',\n",
       " \"'\",\n",
       " 'd',\n",
       " 'i',\n",
       " 'd',\n",
       " 'B',\n",
       " 'u',\n",
       " 'y',\n",
       " \"'\",\n",
       " ',',\n",
       " ' ',\n",
       " \"'\",\n",
       " 'p',\n",
       " 'r',\n",
       " 'o',\n",
       " 'd',\n",
       " 'u',\n",
       " 'c',\n",
       " 't',\n",
       " \"'\",\n",
       " ']']"
      ]
     },
     "execution_count": 29,
     "metadata": {},
     "output_type": "execute_result"
    }
   ],
   "source": [
    "ans = clean_data(tmp[1])\n",
    "ans"
   ]
  },
  {
   "cell_type": "code",
   "execution_count": null,
   "metadata": {
    "colab": {
     "base_uri": "https://localhost:8080/"
    },
    "id": "-ck9Y3zapRz3",
    "outputId": "9e388e89-e53c-4c48-d050-9995ea363a56"
   },
   "outputs": [
    {
     "data": {
      "text/plain": [
       "0    ['much', 'write', 'exactly', 'supposed', 'filt...\n",
       "1    ['product', 'exactly', 'quite', 'affordableI',...\n",
       "2    ['primary', 'job', 'device', 'block', 'breath'...\n",
       "3    ['Nice', 'windscreen', 'protects', 'MXL', 'mic...\n",
       "4    ['pop', 'filter', 'great', 'looks', 'performs'...\n",
       "Name: clean, dtype: object"
      ]
     },
     "execution_count": 30,
     "metadata": {},
     "output_type": "execute_result"
    }
   ],
   "source": [
    "tmp[0:5].astype('str')"
   ]
  },
  {
   "cell_type": "code",
   "execution_count": null,
   "metadata": {
    "colab": {
     "base_uri": "https://localhost:8080/"
    },
    "id": "wP1QyE5qzcNH",
    "outputId": "37d0355c-76bf-48c2-b012-1f796a01f94a"
   },
   "outputs": [
    {
     "data": {
      "text/plain": [
       "['much',\n",
       " 'write',\n",
       " 'exactli',\n",
       " 'suppos',\n",
       " 'filter',\n",
       " 'pop',\n",
       " 'sound',\n",
       " 'record',\n",
       " 'much',\n",
       " 'crisp',\n",
       " 'one',\n",
       " 'lowest',\n",
       " 'price',\n",
       " 'pop',\n",
       " 'filter',\n",
       " 'amazon',\n",
       " 'might',\n",
       " 'well',\n",
       " 'buy',\n",
       " 'honestli',\n",
       " 'work',\n",
       " 'despit',\n",
       " 'price']"
      ]
     },
     "execution_count": 31,
     "metadata": {},
     "output_type": "execute_result"
    }
   ],
   "source": [
    "data['lemstem'][0]"
   ]
  },
  {
   "cell_type": "code",
   "execution_count": null,
   "metadata": {
    "colab": {
     "base_uri": "https://localhost:8080/"
    },
    "id": "Lk6Lxdyr0CNX",
    "outputId": "d98672e7-7693-4197-9732-9cfc2d2d296f"
   },
   "outputs": [
    {
     "data": {
      "text/plain": [
       "['much',\n",
       " 'write',\n",
       " 'exactly',\n",
       " 'supposed',\n",
       " 'filters',\n",
       " 'pop',\n",
       " 'sounds',\n",
       " 'recordings',\n",
       " 'much',\n",
       " 'crisp',\n",
       " 'one',\n",
       " 'lowest',\n",
       " 'prices',\n",
       " 'pop',\n",
       " 'filters',\n",
       " 'amazon',\n",
       " 'might',\n",
       " 'well',\n",
       " 'buy',\n",
       " 'honestly',\n",
       " 'work',\n",
       " 'despite',\n",
       " 'pricing']"
      ]
     },
     "execution_count": 32,
     "metadata": {},
     "output_type": "execute_result"
    }
   ],
   "source": [
    "data['clean'][0]"
   ]
  },
  {
   "cell_type": "code",
   "execution_count": null,
   "metadata": {
    "colab": {
     "base_uri": "https://localhost:8080/"
    },
    "id": "PW8Dfnngp1mN",
    "outputId": "771ff412-d812-4bc0-9ade-91fc660d648a"
   },
   "outputs": [
    {
     "name": "stdout",
     "output_type": "stream",
     "text": [
      "0 amazon\n",
      "1 buy\n",
      "2 crisp\n",
      "3 despit\n",
      "4 exactli\n",
      "5 filter\n",
      "6 honestli\n",
      "7 lowest\n",
      "8 might\n",
      "9 much\n",
      "10 one\n"
     ]
    }
   ],
   "source": [
    "dictionary = gensim.corpora.Dictionary(processed_docs)\n",
    "count = 0\n",
    "for k, v in dictionary.iteritems():\n",
    "    print(k, v)\n",
    "    count += 1\n",
    "    if count > 10:\n",
    "        break"
   ]
  },
  {
   "cell_type": "code",
   "execution_count": null,
   "metadata": {
    "id": "guY_blnCzi4g"
   },
   "outputs": [],
   "source": [
    "from nltk.probability import FreqDist\n",
    "fdisk = FreqDist()"
   ]
  },
  {
   "cell_type": "code",
   "execution_count": null,
   "metadata": {
    "colab": {
     "base_uri": "https://localhost:8080/"
    },
    "id": "h07S_wcAzw5I",
    "outputId": "cde0a16b-7266-4005-c5b2-86eb911fb7b9"
   },
   "outputs": [
    {
     "data": {
      "text/plain": [
       "FreqDist({'amazon': 1,\n",
       "          'buy': 1,\n",
       "          'crisp': 1,\n",
       "          'despit': 1,\n",
       "          'exactli': 1,\n",
       "          'filter': 2,\n",
       "          'honestli': 1,\n",
       "          'lowest': 1,\n",
       "          'might': 1,\n",
       "          'much': 2,\n",
       "          'one': 1,\n",
       "          'pop': 2,\n",
       "          'price': 2,\n",
       "          'record': 1,\n",
       "          'sound': 1,\n",
       "          'suppos': 1,\n",
       "          'well': 1,\n",
       "          'work': 1,\n",
       "          'write': 1})"
      ]
     },
     "execution_count": 35,
     "metadata": {},
     "output_type": "execute_result"
    }
   ],
   "source": [
    "tmp = data['lemstem'][0]\n",
    "for word in tmp:\n",
    "    fdisk[word.lower()] +=1\n",
    "fdisk\n"
   ]
  },
  {
   "cell_type": "code",
   "execution_count": null,
   "metadata": {
    "colab": {
     "base_uri": "https://localhost:8080/"
    },
    "id": "t_DSOg461dT5",
    "outputId": "26203414-3e98-4eab-eb7f-e3ff3a5becf9"
   },
   "outputs": [
    {
     "data": {
      "text/plain": [
       "B003VWJ2K8    163\n",
       "B0002E1G5C    143\n",
       "B0002F7K7Y    116\n",
       "B003VWKPHC    114\n",
       "B0002H0A3S     93\n",
       "             ... \n",
       "B0018PZR86      5\n",
       "B004OK1G64      5\n",
       "B003AYJU5O      5\n",
       "B0002MJTZ8      5\n",
       "B0064BFNME      5\n",
       "Name: asin, Length: 900, dtype: int64"
      ]
     },
     "execution_count": 36,
     "metadata": {},
     "output_type": "execute_result"
    }
   ],
   "source": [
    "data.asin.value_counts()"
   ]
  },
  {
   "cell_type": "code",
   "execution_count": null,
   "metadata": {
    "id": "n-D1z7-EtX-t"
   },
   "outputs": [],
   "source": [
    "dictionary.filter_extremes(no_below=15, no_above=0.5, keep_n=100000)"
   ]
  },
  {
   "cell_type": "code",
   "execution_count": null,
   "metadata": {
    "colab": {
     "base_uri": "https://localhost:8080/"
    },
    "id": "NSf0h82pthvp",
    "outputId": "7ecdd12c-1e4e-4104-8467-58dccbf0ec78"
   },
   "outputs": [
    {
     "data": {
      "text/plain": [
       "[(0, 1),\n",
       " (1, 1),\n",
       " (10, 1),\n",
       " (16, 3),\n",
       " (24, 1),\n",
       " (27, 1),\n",
       " (30, 1),\n",
       " (45, 1),\n",
       " (74, 1),\n",
       " (91, 1),\n",
       " (100, 1),\n",
       " (119, 1),\n",
       " (124, 1),\n",
       " (148, 2),\n",
       " (161, 1),\n",
       " (169, 1),\n",
       " (179, 1),\n",
       " (248, 1),\n",
       " (261, 1),\n",
       " (322, 1),\n",
       " (327, 1),\n",
       " (423, 1),\n",
       " (430, 1),\n",
       " (449, 1),\n",
       " (465, 1),\n",
       " (496, 1),\n",
       " (514, 2),\n",
       " (640, 1),\n",
       " (673, 1),\n",
       " (684, 1),\n",
       " (838, 1),\n",
       " (919, 1),\n",
       " (1110, 1),\n",
       " (1200, 1),\n",
       " (1359, 1),\n",
       " (1602, 2),\n",
       " (1646, 1),\n",
       " (2104, 1),\n",
       " (2187, 1),\n",
       " (2249, 1)]"
      ]
     },
     "execution_count": 38,
     "metadata": {},
     "output_type": "execute_result"
    }
   ],
   "source": [
    "bow_corpus = [dictionary.doc2bow(doc) for doc in processed_docs]\n",
    "bow_corpus[4310]"
   ]
  },
  {
   "cell_type": "code",
   "execution_count": null,
   "metadata": {
    "colab": {
     "base_uri": "https://localhost:8080/"
    },
    "id": "6iSp8EBTtnM1",
    "outputId": "426331f7-3391-48e2-b45b-e878d2b70de3"
   },
   "outputs": [
    {
     "name": "stdout",
     "output_type": "stream",
     "text": [
      "Word 0 (\"amazon\") appears 1 time.\n",
      "Word 1 (\"buy\") appears 1 time.\n",
      "Word 10 (\"one\") appears 1 time.\n",
      "Word 16 (\"well\") appears 3 time.\n",
      "Word 24 (\"carri\") appears 1 time.\n",
      "Word 27 (\"even\") appears 1 time.\n",
      "Word 30 (\"like\") appears 1 time.\n",
      "Word 45 (\"use\") appears 1 time.\n",
      "Word 74 (\"would\") appears 1 time.\n",
      "Word 91 (\"great\") appears 1 time.\n",
      "Word 100 (\"bought\") appears 1 time.\n",
      "Word 119 (\"cabl\") appears 1 time.\n",
      "Word 124 (\"reason\") appears 1 time.\n",
      "Word 148 (\"money\") appears 2 time.\n",
      "Word 161 (\"thought\") appears 1 time.\n",
      "Word 169 (\"construct\") appears 1 time.\n",
      "Word 179 (\"best\") appears 1 time.\n",
      "Word 248 (\"recommend\") appears 1 time.\n",
      "Word 261 (\"ive\") appears 1 time.\n",
      "Word 322 (\"highli\") appears 1 time.\n",
      "Word 327 (\"light\") appears 1 time.\n",
      "Word 423 (\"strong\") appears 1 time.\n",
      "Word 430 (\"gig\") appears 1 time.\n",
      "Word 449 (\"place\") appears 1 time.\n",
      "Word 465 (\"music\") appears 1 time.\n",
      "Word 496 (\"zero\") appears 1 time.\n",
      "Word 514 (\"handl\") appears 2 time.\n",
      "Word 640 (\"stuff\") appears 1 time.\n",
      "Word 673 (\"certainli\") appears 1 time.\n",
      "Word 684 (\"plenti\") appears 1 time.\n",
      "Word 838 (\"bag\") appears 1 time.\n",
      "Word 919 (\"store\") appears 1 time.\n",
      "Word 1110 (\"futur\") appears 1 time.\n",
      "Word 1200 (\"comfort\") appears 1 time.\n",
      "Word 1359 (\"strap\") appears 1 time.\n",
      "Word 1602 (\"pad\") appears 2 time.\n",
      "Word 1646 (\"shoulder\") appears 1 time.\n",
      "Word 2104 (\"sheet\") appears 1 time.\n",
      "Word 2187 (\"water\") appears 1 time.\n",
      "Word 2249 (\"proof\") appears 1 time.\n"
     ]
    }
   ],
   "source": [
    "bow_doc_4310 = bow_corpus[4310]\n",
    "for i in range(len(bow_doc_4310)):\n",
    "    print(\"Word {} (\\\"{}\\\") appears {} time.\".format(bow_doc_4310[i][0], \n",
    "                                               dictionary[bow_doc_4310[i][0]], \n",
    "bow_doc_4310[i][1]))\n",
    "    "
   ]
  },
  {
   "cell_type": "code",
   "execution_count": null,
   "metadata": {
    "colab": {
     "base_uri": "https://localhost:8080/"
    },
    "id": "qK4YdOoGtq3E",
    "outputId": "b239ebaf-debe-4202-e739-489a48816698"
   },
   "outputs": [
    {
     "name": "stdout",
     "output_type": "stream",
     "text": [
      "[(0, 0.16988703078505404),\n",
      " (1, 0.10780986794781687),\n",
      " (2, 0.25871889372828727),\n",
      " (3, 0.26937574824016286),\n",
      " (4, 0.18552773319680463),\n",
      " (5, 0.46151979509226765),\n",
      " (6, 0.2531056045961675),\n",
      " (7, 0.308135488942788),\n",
      " (8, 0.1638368045933555),\n",
      " (9, 0.19449318524297116),\n",
      " (10, 0.06342751610480936),\n",
      " (11, 0.41275944263054754),\n",
      " (12, 0.17307124958586442),\n",
      " (13, 0.1511320818039788),\n",
      " (14, 0.06967904585544157),\n",
      " (15, 0.20272890646715291),\n",
      " (16, 0.0749124213586378),\n",
      " (17, 0.06862449934814574),\n",
      " (18, 0.2558363569137288)]\n"
     ]
    }
   ],
   "source": [
    "from gensim import corpora, models\n",
    "tfidf = models.TfidfModel(bow_corpus)\n",
    "corpus_tfidf = tfidf[bow_corpus]\n",
    "from pprint import pprint\n",
    "for doc in corpus_tfidf:\n",
    "    pprint(doc)\n",
    "    break"
   ]
  },
  {
   "cell_type": "code",
   "execution_count": null,
   "metadata": {
    "id": "PbgDjm-0t8_O"
   },
   "outputs": [],
   "source": [
    "lda_model = gensim.models.LdaMulticore(bow_corpus, num_topics=10, id2word=dictionary, passes=2, workers=2)"
   ]
  },
  {
   "cell_type": "code",
   "execution_count": null,
   "metadata": {
    "colab": {
     "base_uri": "https://localhost:8080/"
    },
    "id": "imUvvHqyuBoE",
    "outputId": "c13159fd-5b86-4e55-ed47-da9995ee1d40"
   },
   "outputs": [
    {
     "name": "stdout",
     "output_type": "stream",
     "text": [
      "Topic: 0 \n",
      "Words: 0.015*\"work\" + 0.014*\"use\" + 0.014*\"capo\" + 0.011*\"one\" + 0.011*\"guitar\" + 0.009*\"sound\" + 0.009*\"need\" + 0.008*\"much\" + 0.008*\"like\" + 0.008*\"get\"\n",
      "Topic: 1 \n",
      "Words: 0.024*\"pick\" + 0.019*\"one\" + 0.014*\"good\" + 0.013*\"use\" + 0.011*\"stand\" + 0.011*\"guitar\" + 0.011*\"like\" + 0.010*\"great\" + 0.010*\"work\" + 0.009*\"get\"\n",
      "Topic: 2 \n",
      "Words: 0.060*\"string\" + 0.016*\"like\" + 0.016*\"sound\" + 0.013*\"tune\" + 0.011*\"guitar\" + 0.011*\"use\" + 0.009*\"good\" + 0.009*\"much\" + 0.009*\"set\" + 0.008*\"feel\"\n",
      "Topic: 3 \n",
      "Words: 0.034*\"guitar\" + 0.022*\"tuner\" + 0.019*\"tune\" + 0.017*\"string\" + 0.017*\"use\" + 0.014*\"one\" + 0.014*\"sound\" + 0.011*\"play\" + 0.010*\"like\" + 0.010*\"pick\"\n",
      "Topic: 4 \n",
      "Words: 0.029*\"guitar\" + 0.026*\"use\" + 0.013*\"strap\" + 0.011*\"one\" + 0.011*\"like\" + 0.011*\"string\" + 0.010*\"play\" + 0.009*\"great\" + 0.009*\"well\" + 0.008*\"get\"\n",
      "Topic: 5 \n",
      "Words: 0.019*\"sound\" + 0.017*\"use\" + 0.017*\"great\" + 0.013*\"well\" + 0.013*\"cabl\" + 0.012*\"good\" + 0.010*\"realli\" + 0.010*\"work\" + 0.010*\"qualiti\" + 0.009*\"amp\"\n",
      "Topic: 6 \n",
      "Words: 0.028*\"pedal\" + 0.018*\"sound\" + 0.017*\"amp\" + 0.016*\"use\" + 0.011*\"like\" + 0.011*\"get\" + 0.009*\"tone\" + 0.008*\"one\" + 0.007*\"great\" + 0.007*\"good\"\n",
      "Topic: 7 \n",
      "Words: 0.017*\"guitar\" + 0.014*\"use\" + 0.013*\"good\" + 0.013*\"work\" + 0.011*\"price\" + 0.011*\"need\" + 0.010*\"like\" + 0.010*\"tuner\" + 0.010*\"great\" + 0.009*\"would\"\n",
      "Topic: 8 \n",
      "Words: 0.021*\"one\" + 0.014*\"use\" + 0.013*\"dont\" + 0.010*\"thing\" + 0.010*\"string\" + 0.010*\"work\" + 0.009*\"guitar\" + 0.009*\"like\" + 0.009*\"realli\" + 0.008*\"great\"\n",
      "Topic: 9 \n",
      "Words: 0.023*\"mic\" + 0.019*\"stand\" + 0.017*\"use\" + 0.016*\"record\" + 0.012*\"one\" + 0.010*\"microphon\" + 0.010*\"great\" + 0.009*\"price\" + 0.009*\"work\" + 0.008*\"usb\"\n"
     ]
    }
   ],
   "source": [
    "for idx, topic in lda_model.print_topics(-1):\n",
    "    print('Topic: {} \\nWords: {}'.format(idx, topic))\n"
   ]
  },
  {
   "cell_type": "code",
   "execution_count": null,
   "metadata": {
    "colab": {
     "base_uri": "https://localhost:8080/"
    },
    "id": "Uid0iMJvuD8Y",
    "outputId": "297fedab-0cc3-4977-a763-e6cd57aa9839"
   },
   "outputs": [
    {
     "name": "stdout",
     "output_type": "stream",
     "text": [
      "Topic: 0 Word: 0.013*\"tuner\" + 0.008*\"tune\" + 0.007*\"guitar\" + 0.006*\"pick\" + 0.006*\"one\" + 0.005*\"easi\" + 0.005*\"use\" + 0.005*\"great\" + 0.005*\"work\" + 0.005*\"accur\"\n",
      "Topic: 1 Word: 0.013*\"tuner\" + 0.010*\"tune\" + 0.010*\"snark\" + 0.006*\"easi\" + 0.006*\"guitar\" + 0.006*\"use\" + 0.005*\"string\" + 0.005*\"accur\" + 0.005*\"display\" + 0.005*\"one\"\n",
      "Topic: 2 Word: 0.006*\"work\" + 0.006*\"one\" + 0.006*\"pedal\" + 0.005*\"guitar\" + 0.005*\"use\" + 0.005*\"tuner\" + 0.005*\"sound\" + 0.005*\"well\" + 0.004*\"record\" + 0.004*\"like\"\n",
      "Topic: 3 Word: 0.008*\"stand\" + 0.006*\"guitar\" + 0.006*\"great\" + 0.006*\"pick\" + 0.005*\"one\" + 0.005*\"price\" + 0.005*\"good\" + 0.005*\"work\" + 0.005*\"well\" + 0.004*\"capo\"\n",
      "Topic: 4 Word: 0.009*\"pick\" + 0.008*\"strap\" + 0.006*\"guitar\" + 0.005*\"use\" + 0.004*\"one\" + 0.004*\"like\" + 0.004*\"great\" + 0.004*\"good\" + 0.004*\"get\" + 0.004*\"play\"\n",
      "Topic: 5 Word: 0.012*\"pedal\" + 0.005*\"sound\" + 0.005*\"use\" + 0.004*\"great\" + 0.004*\"one\" + 0.004*\"get\" + 0.004*\"guitar\" + 0.004*\"string\" + 0.004*\"joyo\" + 0.004*\"power\"\n",
      "Topic: 6 Word: 0.008*\"string\" + 0.006*\"guitar\" + 0.006*\"amp\" + 0.005*\"sound\" + 0.005*\"use\" + 0.005*\"pedal\" + 0.005*\"tuner\" + 0.005*\"great\" + 0.005*\"work\" + 0.004*\"play\"\n",
      "Topic: 7 Word: 0.007*\"guitar\" + 0.006*\"string\" + 0.006*\"capo\" + 0.005*\"work\" + 0.005*\"well\" + 0.005*\"great\" + 0.005*\"good\" + 0.004*\"case\" + 0.004*\"one\" + 0.004*\"use\"\n",
      "Topic: 8 Word: 0.012*\"string\" + 0.006*\"good\" + 0.006*\"sound\" + 0.006*\"great\" + 0.005*\"guitar\" + 0.005*\"pick\" + 0.005*\"like\" + 0.005*\"use\" + 0.004*\"mic\" + 0.004*\"work\"\n",
      "Topic: 9 Word: 0.006*\"guitar\" + 0.006*\"tuner\" + 0.006*\"pick\" + 0.006*\"cabl\" + 0.005*\"pedal\" + 0.005*\"use\" + 0.005*\"great\" + 0.005*\"one\" + 0.005*\"work\" + 0.005*\"sound\"\n"
     ]
    }
   ],
   "source": [
    "lda_model_tfidf = gensim.models.LdaMulticore(corpus_tfidf, num_topics=10, id2word=dictionary, passes=2, workers=4)\n",
    "for idx, topic in lda_model_tfidf.print_topics(-1):\n",
    "    print('Topic: {} Word: {}'.format(idx, topic))"
   ]
  },
  {
   "cell_type": "code",
   "execution_count": null,
   "metadata": {
    "colab": {
     "base_uri": "https://localhost:8080/"
    },
    "id": "9sGeU9wGuOz0",
    "outputId": "5bd4bf9c-4119-41fc-bcc2-50fe73c7ea29"
   },
   "outputs": [
    {
     "data": {
      "text/plain": [
       "['great',\n",
       " 'gig',\n",
       " 'bag',\n",
       " 'money',\n",
       " 'pad',\n",
       " 'thought',\n",
       " 'would',\n",
       " 'strong',\n",
       " 'construct',\n",
       " 'plenti',\n",
       " 'place',\n",
       " 'store',\n",
       " 'stuff',\n",
       " 'like',\n",
       " 'sheet',\n",
       " 'music',\n",
       " 'cabl',\n",
       " 'carri',\n",
       " 'handl',\n",
       " 'shoulder',\n",
       " 'strap',\n",
       " 'well',\n",
       " 'pad',\n",
       " 'comfort',\n",
       " 'use',\n",
       " 'well',\n",
       " 'even',\n",
       " 'reason',\n",
       " 'water',\n",
       " 'proof',\n",
       " 'handl',\n",
       " 'light',\n",
       " 'rain',\n",
       " 'shower',\n",
       " 'well',\n",
       " 'zero',\n",
       " 'leak',\n",
       " 'money',\n",
       " 'best',\n",
       " 'one',\n",
       " 'ive',\n",
       " 'bought',\n",
       " 'amazon',\n",
       " 'certainli',\n",
       " 'buy',\n",
       " 'futur',\n",
       " 'highli',\n",
       " 'recommend']"
      ]
     },
     "execution_count": 44,
     "metadata": {},
     "output_type": "execute_result"
    }
   ],
   "source": [
    "processed_docs[4310]"
   ]
  },
  {
   "cell_type": "code",
   "execution_count": null,
   "metadata": {
    "colab": {
     "base_uri": "https://localhost:8080/"
    },
    "id": "q95ACLh4uUOZ",
    "outputId": "ce168d6b-2620-40c5-d9aa-3f045a25e0fb"
   },
   "outputs": [
    {
     "name": "stdout",
     "output_type": "stream",
     "text": [
      "\n",
      "Score: 0.5333388447761536\t \n",
      "Topic: 0.019*\"sound\" + 0.017*\"use\" + 0.017*\"great\" + 0.013*\"well\" + 0.013*\"cabl\" + 0.012*\"good\" + 0.010*\"realli\" + 0.010*\"work\" + 0.010*\"qualiti\" + 0.009*\"amp\"\n",
      "\n",
      "Score: 0.44926589727401733\t \n",
      "Topic: 0.029*\"guitar\" + 0.026*\"use\" + 0.013*\"strap\" + 0.011*\"one\" + 0.011*\"like\" + 0.011*\"string\" + 0.010*\"play\" + 0.009*\"great\" + 0.009*\"well\" + 0.008*\"get\"\n"
     ]
    }
   ],
   "source": [
    "for index, score in sorted(lda_model[bow_corpus[4310]], key=lambda tup: -1*tup[1]):\n",
    "    print(\"\\nScore: {}\\t \\nTopic: {}\".format(score, lda_model.print_topic(index, 10)))"
   ]
  },
  {
   "cell_type": "code",
   "execution_count": null,
   "metadata": {
    "colab": {
     "base_uri": "https://localhost:8080/"
    },
    "id": "3HZwm96cuXky",
    "outputId": "700ac232-1058-4f84-fef7-6650a2328d24"
   },
   "outputs": [
    {
     "name": "stdout",
     "output_type": "stream",
     "text": [
      "\n",
      "Score: 0.5387229919433594\t \n",
      "Topic: 0.008*\"stand\" + 0.006*\"guitar\" + 0.006*\"great\" + 0.006*\"pick\" + 0.005*\"one\" + 0.005*\"price\" + 0.005*\"good\" + 0.005*\"work\" + 0.005*\"well\" + 0.004*\"capo\"\n",
      "\n",
      "Score: 0.4438803791999817\t \n",
      "Topic: 0.007*\"guitar\" + 0.006*\"string\" + 0.006*\"capo\" + 0.005*\"work\" + 0.005*\"well\" + 0.005*\"great\" + 0.005*\"good\" + 0.004*\"case\" + 0.004*\"one\" + 0.004*\"use\"\n"
     ]
    }
   ],
   "source": [
    "for index, score in sorted(lda_model_tfidf[bow_corpus[4310]], key=lambda tup: -1*tup[1]):\n",
    "    print(\"\\nScore: {}\\t \\nTopic: {}\".format(score, lda_model_tfidf.print_topic(index, 10)))\n"
   ]
  },
  {
   "cell_type": "code",
   "execution_count": null,
   "metadata": {
    "colab": {
     "base_uri": "https://localhost:8080/"
    },
    "id": "D_d4BrU7ui3n",
    "outputId": "86eed474-6eff-4e81-8ed6-209d1cdc2d2b"
   },
   "outputs": [
    {
     "name": "stdout",
     "output_type": "stream",
     "text": [
      "Score: 0.5854827761650085\t Topic: 0.060*\"string\" + 0.016*\"like\" + 0.016*\"sound\" + 0.013*\"tune\" + 0.011*\"guitar\"\n",
      "Score: 0.30106320977211\t Topic: 0.029*\"guitar\" + 0.026*\"use\" + 0.013*\"strap\" + 0.011*\"one\" + 0.011*\"like\"\n",
      "Score: 0.06678023934364319\t Topic: 0.015*\"work\" + 0.014*\"use\" + 0.014*\"capo\" + 0.011*\"one\" + 0.011*\"guitar\"\n"
     ]
    }
   ],
   "source": [
    "unseen_document = 'How a Pentagon deal became an identity crisis for Google'\n",
    "bow_vector = dictionary.doc2bow(clean_data(unseen_document))\n",
    "for index, score in sorted(lda_model[bow_vector], key=lambda tup: -1*tup[1]):\n",
    "    print(\"Score: {}\\t Topic: {}\".format(score, lda_model.print_topic(index, 5)))"
   ]
  },
  {
   "cell_type": "markdown",
   "metadata": {
    "id": "hO-GzQlwiVy2"
   },
   "source": [
    "**Trial code 0 ends**"
   ]
  },
  {
   "cell_type": "code",
   "execution_count": null,
   "metadata": {
    "id": "5e630DwSup9y"
   },
   "outputs": [],
   "source": []
  },
  {
   "cell_type": "markdown",
   "metadata": {
    "id": "HdJC6CZW1zr1"
   },
   "source": [
    "Trial- Extracting product with more than 100 reviews"
   ]
  },
  {
   "cell_type": "code",
   "execution_count": null,
   "metadata": {
    "id": "ISwG7dS6156g"
   },
   "outputs": [],
   "source": [
    "trial=data[data['asin'].map(data['asin'].value_counts()) > 100]\n"
   ]
  },
  {
   "cell_type": "code",
   "execution_count": null,
   "metadata": {
    "colab": {
     "base_uri": "https://localhost:8080/",
     "height": 756
    },
    "id": "pQ-CY6502y61",
    "outputId": "63563c4f-b81e-41ed-b6a2-d4e4cd068717"
   },
   "outputs": [
    {
     "data": {
      "text/html": [
       "\n",
       "  <div id=\"df-47fa2e96-2eb7-4aa0-9080-42b7cabf299e\">\n",
       "    <div class=\"colab-df-container\">\n",
       "      <div>\n",
       "<style scoped>\n",
       "    .dataframe tbody tr th:only-of-type {\n",
       "        vertical-align: middle;\n",
       "    }\n",
       "\n",
       "    .dataframe tbody tr th {\n",
       "        vertical-align: top;\n",
       "    }\n",
       "\n",
       "    .dataframe thead th {\n",
       "        text-align: right;\n",
       "    }\n",
       "</style>\n",
       "<table border=\"1\" class=\"dataframe\">\n",
       "  <thead>\n",
       "    <tr style=\"text-align: right;\">\n",
       "      <th></th>\n",
       "      <th>reviewerID</th>\n",
       "      <th>asin</th>\n",
       "      <th>reviewerName</th>\n",
       "      <th>helpful/0</th>\n",
       "      <th>helpful/1</th>\n",
       "      <th>reviewText</th>\n",
       "      <th>overall</th>\n",
       "      <th>summary</th>\n",
       "      <th>unixReviewTime</th>\n",
       "      <th>reviewTime</th>\n",
       "      <th>clean</th>\n",
       "      <th>lemstem</th>\n",
       "    </tr>\n",
       "  </thead>\n",
       "  <tbody>\n",
       "    <tr>\n",
       "      <th>1225</th>\n",
       "      <td>A3157YGT1NASJ7</td>\n",
       "      <td>B0002E1G5C</td>\n",
       "      <td>Aichokeu</td>\n",
       "      <td>0</td>\n",
       "      <td>0</td>\n",
       "      <td>I bought this to put the new strings on my gui...</td>\n",
       "      <td>5</td>\n",
       "      <td>Yeah um...</td>\n",
       "      <td>1375401600</td>\n",
       "      <td>08 2, 2013</td>\n",
       "      <td>[bought, put, new, strings, guitar, shipping, ...</td>\n",
       "      <td>[bought, put, new, string, guitar, ship, info,...</td>\n",
       "    </tr>\n",
       "    <tr>\n",
       "      <th>1226</th>\n",
       "      <td>A1SCWHXAB2ZK7N</td>\n",
       "      <td>B0002E1G5C</td>\n",
       "      <td>Alexandra Spark \"Published Author\"</td>\n",
       "      <td>0</td>\n",
       "      <td>0</td>\n",
       "      <td>Works just fine. Except the little knob that's...</td>\n",
       "      <td>5</td>\n",
       "      <td>Good</td>\n",
       "      <td>1354752000</td>\n",
       "      <td>12 6, 2012</td>\n",
       "      <td>[Works, fine, Except, little, knob, thats, sup...</td>\n",
       "      <td>[work, fine, except, littl, knob, that, suppos...</td>\n",
       "    </tr>\n",
       "    <tr>\n",
       "      <th>1227</th>\n",
       "      <td>AHUCLL02HS7M5</td>\n",
       "      <td>B0002E1G5C</td>\n",
       "      <td>Alex Bartlett</td>\n",
       "      <td>0</td>\n",
       "      <td>0</td>\n",
       "      <td>It winds well and can cut off excess string th...</td>\n",
       "      <td>4</td>\n",
       "      <td>Useful multitool</td>\n",
       "      <td>1388016000</td>\n",
       "      <td>12 26, 2013</td>\n",
       "      <td>[winds, well, cut, excess, string, thereafter,...</td>\n",
       "      <td>[wind, well, cut, excess, string, thereaft, de...</td>\n",
       "    </tr>\n",
       "    <tr>\n",
       "      <th>1228</th>\n",
       "      <td>A2SBZZ1HSR7WSP</td>\n",
       "      <td>B0002E1G5C</td>\n",
       "      <td>A. Mayse</td>\n",
       "      <td>0</td>\n",
       "      <td>0</td>\n",
       "      <td>bought this on a whim and I am glad of it, I h...</td>\n",
       "      <td>5</td>\n",
       "      <td>does what it says</td>\n",
       "      <td>1324166400</td>\n",
       "      <td>12 18, 2011</td>\n",
       "      <td>[bought, whim, glad, used, string, winder, par...</td>\n",
       "      <td>[bought, whim, glad, use, string, winder, part...</td>\n",
       "    </tr>\n",
       "    <tr>\n",
       "      <th>1229</th>\n",
       "      <td>A2G8O3QXM9EGJS</td>\n",
       "      <td>B0002E1G5C</td>\n",
       "      <td>Amazon Customer \"boo-koo\"</td>\n",
       "      <td>2</td>\n",
       "      <td>2</td>\n",
       "      <td>Changed the strings on my Epiphone EB-0 bass t...</td>\n",
       "      <td>5</td>\n",
       "      <td>Love it!</td>\n",
       "      <td>1313280000</td>\n",
       "      <td>08 14, 2011</td>\n",
       "      <td>[Changed, strings, Epiphone, EB0, bass, today,...</td>\n",
       "      <td>[chang, string, epiphon, eb0, bass, today, fir...</td>\n",
       "    </tr>\n",
       "  </tbody>\n",
       "</table>\n",
       "</div>\n",
       "      <button class=\"colab-df-convert\" onclick=\"convertToInteractive('df-47fa2e96-2eb7-4aa0-9080-42b7cabf299e')\"\n",
       "              title=\"Convert this dataframe to an interactive table.\"\n",
       "              style=\"display:none;\">\n",
       "        \n",
       "  <svg xmlns=\"http://www.w3.org/2000/svg\" height=\"24px\"viewBox=\"0 0 24 24\"\n",
       "       width=\"24px\">\n",
       "    <path d=\"M0 0h24v24H0V0z\" fill=\"none\"/>\n",
       "    <path d=\"M18.56 5.44l.94 2.06.94-2.06 2.06-.94-2.06-.94-.94-2.06-.94 2.06-2.06.94zm-11 1L8.5 8.5l.94-2.06 2.06-.94-2.06-.94L8.5 2.5l-.94 2.06-2.06.94zm10 10l.94 2.06.94-2.06 2.06-.94-2.06-.94-.94-2.06-.94 2.06-2.06.94z\"/><path d=\"M17.41 7.96l-1.37-1.37c-.4-.4-.92-.59-1.43-.59-.52 0-1.04.2-1.43.59L10.3 9.45l-7.72 7.72c-.78.78-.78 2.05 0 2.83L4 21.41c.39.39.9.59 1.41.59.51 0 1.02-.2 1.41-.59l7.78-7.78 2.81-2.81c.8-.78.8-2.07 0-2.86zM5.41 20L4 18.59l7.72-7.72 1.47 1.35L5.41 20z\"/>\n",
       "  </svg>\n",
       "      </button>\n",
       "      \n",
       "  <style>\n",
       "    .colab-df-container {\n",
       "      display:flex;\n",
       "      flex-wrap:wrap;\n",
       "      gap: 12px;\n",
       "    }\n",
       "\n",
       "    .colab-df-convert {\n",
       "      background-color: #E8F0FE;\n",
       "      border: none;\n",
       "      border-radius: 50%;\n",
       "      cursor: pointer;\n",
       "      display: none;\n",
       "      fill: #1967D2;\n",
       "      height: 32px;\n",
       "      padding: 0 0 0 0;\n",
       "      width: 32px;\n",
       "    }\n",
       "\n",
       "    .colab-df-convert:hover {\n",
       "      background-color: #E2EBFA;\n",
       "      box-shadow: 0px 1px 2px rgba(60, 64, 67, 0.3), 0px 1px 3px 1px rgba(60, 64, 67, 0.15);\n",
       "      fill: #174EA6;\n",
       "    }\n",
       "\n",
       "    [theme=dark] .colab-df-convert {\n",
       "      background-color: #3B4455;\n",
       "      fill: #D2E3FC;\n",
       "    }\n",
       "\n",
       "    [theme=dark] .colab-df-convert:hover {\n",
       "      background-color: #434B5C;\n",
       "      box-shadow: 0px 1px 3px 1px rgba(0, 0, 0, 0.15);\n",
       "      filter: drop-shadow(0px 1px 2px rgba(0, 0, 0, 0.3));\n",
       "      fill: #FFFFFF;\n",
       "    }\n",
       "  </style>\n",
       "\n",
       "      <script>\n",
       "        const buttonEl =\n",
       "          document.querySelector('#df-47fa2e96-2eb7-4aa0-9080-42b7cabf299e button.colab-df-convert');\n",
       "        buttonEl.style.display =\n",
       "          google.colab.kernel.accessAllowed ? 'block' : 'none';\n",
       "\n",
       "        async function convertToInteractive(key) {\n",
       "          const element = document.querySelector('#df-47fa2e96-2eb7-4aa0-9080-42b7cabf299e');\n",
       "          const dataTable =\n",
       "            await google.colab.kernel.invokeFunction('convertToInteractive',\n",
       "                                                     [key], {});\n",
       "          if (!dataTable) return;\n",
       "\n",
       "          const docLinkHtml = 'Like what you see? Visit the ' +\n",
       "            '<a target=\"_blank\" href=https://colab.research.google.com/notebooks/data_table.ipynb>data table notebook</a>'\n",
       "            + ' to learn more about interactive tables.';\n",
       "          element.innerHTML = '';\n",
       "          dataTable['output_type'] = 'display_data';\n",
       "          await google.colab.output.renderOutput(dataTable, element);\n",
       "          const docLink = document.createElement('div');\n",
       "          docLink.innerHTML = docLinkHtml;\n",
       "          element.appendChild(docLink);\n",
       "        }\n",
       "      </script>\n",
       "    </div>\n",
       "  </div>\n",
       "  "
      ],
      "text/plain": [
       "          reviewerID  ...                                            lemstem\n",
       "1225  A3157YGT1NASJ7  ...  [bought, put, new, string, guitar, ship, info,...\n",
       "1226  A1SCWHXAB2ZK7N  ...  [work, fine, except, littl, knob, that, suppos...\n",
       "1227   AHUCLL02HS7M5  ...  [wind, well, cut, excess, string, thereaft, de...\n",
       "1228  A2SBZZ1HSR7WSP  ...  [bought, whim, glad, use, string, winder, part...\n",
       "1229  A2G8O3QXM9EGJS  ...  [chang, string, epiphon, eb0, bass, today, fir...\n",
       "\n",
       "[5 rows x 12 columns]"
      ]
     },
     "execution_count": 49,
     "metadata": {},
     "output_type": "execute_result"
    }
   ],
   "source": [
    "trial.head()"
   ]
  },
  {
   "cell_type": "code",
   "execution_count": null,
   "metadata": {
    "colab": {
     "base_uri": "https://localhost:8080/"
    },
    "id": "TNq9YrTF3DsD",
    "outputId": "5087033f-8bc9-4de3-8c61-e23ae8b246ba"
   },
   "outputs": [
    {
     "data": {
      "text/plain": [
       "B003VWJ2K8    163\n",
       "B0002E1G5C    143\n",
       "B0002F7K7Y    116\n",
       "B003VWKPHC    114\n",
       "Name: asin, dtype: int64"
      ]
     },
     "execution_count": 50,
     "metadata": {},
     "output_type": "execute_result"
    }
   ],
   "source": [
    "trial.asin.value_counts()\n"
   ]
  },
  {
   "cell_type": "code",
   "execution_count": null,
   "metadata": {
    "colab": {
     "base_uri": "https://localhost:8080/"
    },
    "id": "NqyxUmvc3H6Z",
    "outputId": "5450d36e-0973-4f65-d0fc-6cad7674a808"
   },
   "outputs": [
    {
     "data": {
      "text/plain": [
       "(536, 12)"
      ]
     },
     "execution_count": 51,
     "metadata": {},
     "output_type": "execute_result"
    }
   ],
   "source": [
    "trial.shape"
   ]
  },
  {
   "cell_type": "code",
   "execution_count": null,
   "metadata": {
    "id": "VG6dJ7D78TrU"
   },
   "outputs": [],
   "source": [
    "data1 = trial[trial.asin == 'B003VWJ2K8']"
   ]
  },
  {
   "cell_type": "code",
   "execution_count": null,
   "metadata": {
    "colab": {
     "base_uri": "https://localhost:8080/"
    },
    "id": "uH4ozQmC3K1P",
    "outputId": "f499940b-c712-472e-929e-ea75739bda34"
   },
   "outputs": [
    {
     "data": {
      "text/plain": [
       "FreqDist({'amazon': 2,\n",
       "          'buy': 2,\n",
       "          'crisp': 2,\n",
       "          'despit': 2,\n",
       "          'exactli': 2,\n",
       "          'filter': 4,\n",
       "          'honestli': 2,\n",
       "          'lowest': 2,\n",
       "          'might': 2,\n",
       "          'much': 4,\n",
       "          'one': 2,\n",
       "          'pop': 4,\n",
       "          'price': 4,\n",
       "          'record': 2,\n",
       "          'sound': 2,\n",
       "          'suppos': 2,\n",
       "          'well': 2,\n",
       "          'work': 2,\n",
       "          'write': 2})"
      ]
     },
     "execution_count": 53,
     "metadata": {},
     "output_type": "execute_result"
    }
   ],
   "source": [
    "for word in tmp:\n",
    "    fdisk[word.lower()] +=1\n",
    "fdisk"
   ]
  },
  {
   "cell_type": "code",
   "execution_count": null,
   "metadata": {
    "colab": {
     "base_uri": "https://localhost:8080/",
     "height": 617
    },
    "id": "InGOH8cQ8gaM",
    "outputId": "c8a20035-29e0-4928-d256-cbadc3fee47f"
   },
   "outputs": [
    {
     "data": {
      "text/html": [
       "\n",
       "  <div id=\"df-088830f8-8788-4403-9c09-5b6cf12887dc\">\n",
       "    <div class=\"colab-df-container\">\n",
       "      <div>\n",
       "<style scoped>\n",
       "    .dataframe tbody tr th:only-of-type {\n",
       "        vertical-align: middle;\n",
       "    }\n",
       "\n",
       "    .dataframe tbody tr th {\n",
       "        vertical-align: top;\n",
       "    }\n",
       "\n",
       "    .dataframe thead th {\n",
       "        text-align: right;\n",
       "    }\n",
       "</style>\n",
       "<table border=\"1\" class=\"dataframe\">\n",
       "  <thead>\n",
       "    <tr style=\"text-align: right;\">\n",
       "      <th></th>\n",
       "      <th>reviewerID</th>\n",
       "      <th>asin</th>\n",
       "      <th>reviewerName</th>\n",
       "      <th>helpful/0</th>\n",
       "      <th>helpful/1</th>\n",
       "      <th>reviewText</th>\n",
       "      <th>overall</th>\n",
       "      <th>summary</th>\n",
       "      <th>unixReviewTime</th>\n",
       "      <th>reviewTime</th>\n",
       "      <th>clean</th>\n",
       "      <th>lemstem</th>\n",
       "    </tr>\n",
       "  </thead>\n",
       "  <tbody>\n",
       "    <tr>\n",
       "      <th>8107</th>\n",
       "      <td>A3MONHA5DCPPLZ</td>\n",
       "      <td>B003VWJ2K8</td>\n",
       "      <td>3rdtimer</td>\n",
       "      <td>0</td>\n",
       "      <td>0</td>\n",
       "      <td>It works but shut it down as soon as you are f...</td>\n",
       "      <td>3</td>\n",
       "      <td>Eats batteries.</td>\n",
       "      <td>1390003200</td>\n",
       "      <td>01 18, 2014</td>\n",
       "      <td>[works, shut, soon, finished, tuning, eats, ba...</td>\n",
       "      <td>[work, shut, soon, finish, tune, eat, batteri,...</td>\n",
       "    </tr>\n",
       "    <tr>\n",
       "      <th>8108</th>\n",
       "      <td>ASYHYW0USZVN6</td>\n",
       "      <td>B003VWJ2K8</td>\n",
       "      <td>aashish</td>\n",
       "      <td>0</td>\n",
       "      <td>0</td>\n",
       "      <td>very awesome item. really useful for tuning. h...</td>\n",
       "      <td>5</td>\n",
       "      <td>awesome item</td>\n",
       "      <td>1357948800</td>\n",
       "      <td>01 12, 2013</td>\n",
       "      <td>[awesome, item, really, useful, tuning, havent...</td>\n",
       "      <td>[awesom, item, realli, use, tune, havent, prob...</td>\n",
       "    </tr>\n",
       "    <tr>\n",
       "      <th>8109</th>\n",
       "      <td>A1RSRUQVKB5EBO</td>\n",
       "      <td>B003VWJ2K8</td>\n",
       "      <td>A F&amp;amp;T</td>\n",
       "      <td>1</td>\n",
       "      <td>1</td>\n",
       "      <td>My friend has commented on its bright color - ...</td>\n",
       "      <td>5</td>\n",
       "      <td>nice tuner for the $</td>\n",
       "      <td>1322438400</td>\n",
       "      <td>11 28, 2011</td>\n",
       "      <td>[friend, commented, bright, color, youll, neve...</td>\n",
       "      <td>[friend, comment, bright, color, youll, never,...</td>\n",
       "    </tr>\n",
       "    <tr>\n",
       "      <th>8110</th>\n",
       "      <td>A22Z554ZQ8NFPC</td>\n",
       "      <td>B003VWJ2K8</td>\n",
       "      <td>AF \"Whigs\"</td>\n",
       "      <td>0</td>\n",
       "      <td>0</td>\n",
       "      <td>I have another cheap clip on tuner from guitar...</td>\n",
       "      <td>5</td>\n",
       "      <td>Wow! Great tuner!</td>\n",
       "      <td>1299196800</td>\n",
       "      <td>03 4, 2011</td>\n",
       "      <td>[another, cheap, clip, tuner, guitarfetishcom,...</td>\n",
       "      <td>[anoth, cheap, clip, tuner, guitarfetishcom, w...</td>\n",
       "    </tr>\n",
       "    <tr>\n",
       "      <th>8111</th>\n",
       "      <td>A2SBZZ1HSR7WSP</td>\n",
       "      <td>B003VWJ2K8</td>\n",
       "      <td>A. Mayse</td>\n",
       "      <td>0</td>\n",
       "      <td>0</td>\n",
       "      <td>the snark series of tuners are the best small ...</td>\n",
       "      <td>5</td>\n",
       "      <td>excellent tuner</td>\n",
       "      <td>1324166400</td>\n",
       "      <td>12 18, 2011</td>\n",
       "      <td>[snark, series, tuners, best, small, tuners, f...</td>\n",
       "      <td>[snark, seri, tuner, best, small, tuner, found...</td>\n",
       "    </tr>\n",
       "  </tbody>\n",
       "</table>\n",
       "</div>\n",
       "      <button class=\"colab-df-convert\" onclick=\"convertToInteractive('df-088830f8-8788-4403-9c09-5b6cf12887dc')\"\n",
       "              title=\"Convert this dataframe to an interactive table.\"\n",
       "              style=\"display:none;\">\n",
       "        \n",
       "  <svg xmlns=\"http://www.w3.org/2000/svg\" height=\"24px\"viewBox=\"0 0 24 24\"\n",
       "       width=\"24px\">\n",
       "    <path d=\"M0 0h24v24H0V0z\" fill=\"none\"/>\n",
       "    <path d=\"M18.56 5.44l.94 2.06.94-2.06 2.06-.94-2.06-.94-.94-2.06-.94 2.06-2.06.94zm-11 1L8.5 8.5l.94-2.06 2.06-.94-2.06-.94L8.5 2.5l-.94 2.06-2.06.94zm10 10l.94 2.06.94-2.06 2.06-.94-2.06-.94-.94-2.06-.94 2.06-2.06.94z\"/><path d=\"M17.41 7.96l-1.37-1.37c-.4-.4-.92-.59-1.43-.59-.52 0-1.04.2-1.43.59L10.3 9.45l-7.72 7.72c-.78.78-.78 2.05 0 2.83L4 21.41c.39.39.9.59 1.41.59.51 0 1.02-.2 1.41-.59l7.78-7.78 2.81-2.81c.8-.78.8-2.07 0-2.86zM5.41 20L4 18.59l7.72-7.72 1.47 1.35L5.41 20z\"/>\n",
       "  </svg>\n",
       "      </button>\n",
       "      \n",
       "  <style>\n",
       "    .colab-df-container {\n",
       "      display:flex;\n",
       "      flex-wrap:wrap;\n",
       "      gap: 12px;\n",
       "    }\n",
       "\n",
       "    .colab-df-convert {\n",
       "      background-color: #E8F0FE;\n",
       "      border: none;\n",
       "      border-radius: 50%;\n",
       "      cursor: pointer;\n",
       "      display: none;\n",
       "      fill: #1967D2;\n",
       "      height: 32px;\n",
       "      padding: 0 0 0 0;\n",
       "      width: 32px;\n",
       "    }\n",
       "\n",
       "    .colab-df-convert:hover {\n",
       "      background-color: #E2EBFA;\n",
       "      box-shadow: 0px 1px 2px rgba(60, 64, 67, 0.3), 0px 1px 3px 1px rgba(60, 64, 67, 0.15);\n",
       "      fill: #174EA6;\n",
       "    }\n",
       "\n",
       "    [theme=dark] .colab-df-convert {\n",
       "      background-color: #3B4455;\n",
       "      fill: #D2E3FC;\n",
       "    }\n",
       "\n",
       "    [theme=dark] .colab-df-convert:hover {\n",
       "      background-color: #434B5C;\n",
       "      box-shadow: 0px 1px 3px 1px rgba(0, 0, 0, 0.15);\n",
       "      filter: drop-shadow(0px 1px 2px rgba(0, 0, 0, 0.3));\n",
       "      fill: #FFFFFF;\n",
       "    }\n",
       "  </style>\n",
       "\n",
       "      <script>\n",
       "        const buttonEl =\n",
       "          document.querySelector('#df-088830f8-8788-4403-9c09-5b6cf12887dc button.colab-df-convert');\n",
       "        buttonEl.style.display =\n",
       "          google.colab.kernel.accessAllowed ? 'block' : 'none';\n",
       "\n",
       "        async function convertToInteractive(key) {\n",
       "          const element = document.querySelector('#df-088830f8-8788-4403-9c09-5b6cf12887dc');\n",
       "          const dataTable =\n",
       "            await google.colab.kernel.invokeFunction('convertToInteractive',\n",
       "                                                     [key], {});\n",
       "          if (!dataTable) return;\n",
       "\n",
       "          const docLinkHtml = 'Like what you see? Visit the ' +\n",
       "            '<a target=\"_blank\" href=https://colab.research.google.com/notebooks/data_table.ipynb>data table notebook</a>'\n",
       "            + ' to learn more about interactive tables.';\n",
       "          element.innerHTML = '';\n",
       "          dataTable['output_type'] = 'display_data';\n",
       "          await google.colab.output.renderOutput(dataTable, element);\n",
       "          const docLink = document.createElement('div');\n",
       "          docLink.innerHTML = docLinkHtml;\n",
       "          element.appendChild(docLink);\n",
       "        }\n",
       "      </script>\n",
       "    </div>\n",
       "  </div>\n",
       "  "
      ],
      "text/plain": [
       "          reviewerID  ...                                            lemstem\n",
       "8107  A3MONHA5DCPPLZ  ...  [work, shut, soon, finish, tune, eat, batteri,...\n",
       "8108   ASYHYW0USZVN6  ...  [awesom, item, realli, use, tune, havent, prob...\n",
       "8109  A1RSRUQVKB5EBO  ...  [friend, comment, bright, color, youll, never,...\n",
       "8110  A22Z554ZQ8NFPC  ...  [anoth, cheap, clip, tuner, guitarfetishcom, w...\n",
       "8111  A2SBZZ1HSR7WSP  ...  [snark, seri, tuner, best, small, tuner, found...\n",
       "\n",
       "[5 rows x 12 columns]"
      ]
     },
     "execution_count": 54,
     "metadata": {},
     "output_type": "execute_result"
    }
   ],
   "source": [
    "data1.head()"
   ]
  },
  {
   "cell_type": "code",
   "execution_count": null,
   "metadata": {
    "colab": {
     "base_uri": "https://localhost:8080/",
     "height": 424
    },
    "id": "RlIVvPYX8iOm",
    "outputId": "433eb90a-694f-42fd-f458-2db3ece3faf2"
   },
   "outputs": [
    {
     "name": "stderr",
     "output_type": "stream",
     "text": [
      "/usr/local/lib/python3.7/dist-packages/pandas/core/frame.py:4174: SettingWithCopyWarning: \n",
      "A value is trying to be set on a copy of a slice from a DataFrame\n",
      "\n",
      "See the caveats in the documentation: https://pandas.pydata.org/pandas-docs/stable/user_guide/indexing.html#returning-a-view-versus-a-copy\n",
      "  errors=errors,\n"
     ]
    },
    {
     "data": {
      "text/html": [
       "\n",
       "  <div id=\"df-7da56408-9ef3-4881-a7fe-4ce853c5383e\">\n",
       "    <div class=\"colab-df-container\">\n",
       "      <div>\n",
       "<style scoped>\n",
       "    .dataframe tbody tr th:only-of-type {\n",
       "        vertical-align: middle;\n",
       "    }\n",
       "\n",
       "    .dataframe tbody tr th {\n",
       "        vertical-align: top;\n",
       "    }\n",
       "\n",
       "    .dataframe thead th {\n",
       "        text-align: right;\n",
       "    }\n",
       "</style>\n",
       "<table border=\"1\" class=\"dataframe\">\n",
       "  <thead>\n",
       "    <tr style=\"text-align: right;\">\n",
       "      <th></th>\n",
       "      <th>reviewText</th>\n",
       "      <th>overall</th>\n",
       "      <th>summary</th>\n",
       "      <th>clean</th>\n",
       "      <th>lemstem</th>\n",
       "    </tr>\n",
       "  </thead>\n",
       "  <tbody>\n",
       "    <tr>\n",
       "      <th>8107</th>\n",
       "      <td>It works but shut it down as soon as you are f...</td>\n",
       "      <td>3</td>\n",
       "      <td>Eats batteries.</td>\n",
       "      <td>[works, shut, soon, finished, tuning, eats, ba...</td>\n",
       "      <td>[work, shut, soon, finish, tune, eat, batteri,...</td>\n",
       "    </tr>\n",
       "    <tr>\n",
       "      <th>8108</th>\n",
       "      <td>very awesome item. really useful for tuning. h...</td>\n",
       "      <td>5</td>\n",
       "      <td>awesome item</td>\n",
       "      <td>[awesome, item, really, useful, tuning, havent...</td>\n",
       "      <td>[awesom, item, realli, use, tune, havent, prob...</td>\n",
       "    </tr>\n",
       "    <tr>\n",
       "      <th>8109</th>\n",
       "      <td>My friend has commented on its bright color - ...</td>\n",
       "      <td>5</td>\n",
       "      <td>nice tuner for the $</td>\n",
       "      <td>[friend, commented, bright, color, youll, neve...</td>\n",
       "      <td>[friend, comment, bright, color, youll, never,...</td>\n",
       "    </tr>\n",
       "    <tr>\n",
       "      <th>8110</th>\n",
       "      <td>I have another cheap clip on tuner from guitar...</td>\n",
       "      <td>5</td>\n",
       "      <td>Wow! Great tuner!</td>\n",
       "      <td>[another, cheap, clip, tuner, guitarfetishcom,...</td>\n",
       "      <td>[anoth, cheap, clip, tuner, guitarfetishcom, w...</td>\n",
       "    </tr>\n",
       "    <tr>\n",
       "      <th>8111</th>\n",
       "      <td>the snark series of tuners are the best small ...</td>\n",
       "      <td>5</td>\n",
       "      <td>excellent tuner</td>\n",
       "      <td>[snark, series, tuners, best, small, tuners, f...</td>\n",
       "      <td>[snark, seri, tuner, best, small, tuner, found...</td>\n",
       "    </tr>\n",
       "  </tbody>\n",
       "</table>\n",
       "</div>\n",
       "      <button class=\"colab-df-convert\" onclick=\"convertToInteractive('df-7da56408-9ef3-4881-a7fe-4ce853c5383e')\"\n",
       "              title=\"Convert this dataframe to an interactive table.\"\n",
       "              style=\"display:none;\">\n",
       "        \n",
       "  <svg xmlns=\"http://www.w3.org/2000/svg\" height=\"24px\"viewBox=\"0 0 24 24\"\n",
       "       width=\"24px\">\n",
       "    <path d=\"M0 0h24v24H0V0z\" fill=\"none\"/>\n",
       "    <path d=\"M18.56 5.44l.94 2.06.94-2.06 2.06-.94-2.06-.94-.94-2.06-.94 2.06-2.06.94zm-11 1L8.5 8.5l.94-2.06 2.06-.94-2.06-.94L8.5 2.5l-.94 2.06-2.06.94zm10 10l.94 2.06.94-2.06 2.06-.94-2.06-.94-.94-2.06-.94 2.06-2.06.94z\"/><path d=\"M17.41 7.96l-1.37-1.37c-.4-.4-.92-.59-1.43-.59-.52 0-1.04.2-1.43.59L10.3 9.45l-7.72 7.72c-.78.78-.78 2.05 0 2.83L4 21.41c.39.39.9.59 1.41.59.51 0 1.02-.2 1.41-.59l7.78-7.78 2.81-2.81c.8-.78.8-2.07 0-2.86zM5.41 20L4 18.59l7.72-7.72 1.47 1.35L5.41 20z\"/>\n",
       "  </svg>\n",
       "      </button>\n",
       "      \n",
       "  <style>\n",
       "    .colab-df-container {\n",
       "      display:flex;\n",
       "      flex-wrap:wrap;\n",
       "      gap: 12px;\n",
       "    }\n",
       "\n",
       "    .colab-df-convert {\n",
       "      background-color: #E8F0FE;\n",
       "      border: none;\n",
       "      border-radius: 50%;\n",
       "      cursor: pointer;\n",
       "      display: none;\n",
       "      fill: #1967D2;\n",
       "      height: 32px;\n",
       "      padding: 0 0 0 0;\n",
       "      width: 32px;\n",
       "    }\n",
       "\n",
       "    .colab-df-convert:hover {\n",
       "      background-color: #E2EBFA;\n",
       "      box-shadow: 0px 1px 2px rgba(60, 64, 67, 0.3), 0px 1px 3px 1px rgba(60, 64, 67, 0.15);\n",
       "      fill: #174EA6;\n",
       "    }\n",
       "\n",
       "    [theme=dark] .colab-df-convert {\n",
       "      background-color: #3B4455;\n",
       "      fill: #D2E3FC;\n",
       "    }\n",
       "\n",
       "    [theme=dark] .colab-df-convert:hover {\n",
       "      background-color: #434B5C;\n",
       "      box-shadow: 0px 1px 3px 1px rgba(0, 0, 0, 0.15);\n",
       "      filter: drop-shadow(0px 1px 2px rgba(0, 0, 0, 0.3));\n",
       "      fill: #FFFFFF;\n",
       "    }\n",
       "  </style>\n",
       "\n",
       "      <script>\n",
       "        const buttonEl =\n",
       "          document.querySelector('#df-7da56408-9ef3-4881-a7fe-4ce853c5383e button.colab-df-convert');\n",
       "        buttonEl.style.display =\n",
       "          google.colab.kernel.accessAllowed ? 'block' : 'none';\n",
       "\n",
       "        async function convertToInteractive(key) {\n",
       "          const element = document.querySelector('#df-7da56408-9ef3-4881-a7fe-4ce853c5383e');\n",
       "          const dataTable =\n",
       "            await google.colab.kernel.invokeFunction('convertToInteractive',\n",
       "                                                     [key], {});\n",
       "          if (!dataTable) return;\n",
       "\n",
       "          const docLinkHtml = 'Like what you see? Visit the ' +\n",
       "            '<a target=\"_blank\" href=https://colab.research.google.com/notebooks/data_table.ipynb>data table notebook</a>'\n",
       "            + ' to learn more about interactive tables.';\n",
       "          element.innerHTML = '';\n",
       "          dataTable['output_type'] = 'display_data';\n",
       "          await google.colab.output.renderOutput(dataTable, element);\n",
       "          const docLink = document.createElement('div');\n",
       "          docLink.innerHTML = docLinkHtml;\n",
       "          element.appendChild(docLink);\n",
       "        }\n",
       "      </script>\n",
       "    </div>\n",
       "  </div>\n",
       "  "
      ],
      "text/plain": [
       "                                             reviewText  ...                                            lemstem\n",
       "8107  It works but shut it down as soon as you are f...  ...  [work, shut, soon, finish, tune, eat, batteri,...\n",
       "8108  very awesome item. really useful for tuning. h...  ...  [awesom, item, realli, use, tune, havent, prob...\n",
       "8109  My friend has commented on its bright color - ...  ...  [friend, comment, bright, color, youll, never,...\n",
       "8110  I have another cheap clip on tuner from guitar...  ...  [anoth, cheap, clip, tuner, guitarfetishcom, w...\n",
       "8111  the snark series of tuners are the best small ...  ...  [snark, seri, tuner, best, small, tuner, found...\n",
       "\n",
       "[5 rows x 5 columns]"
      ]
     },
     "execution_count": 55,
     "metadata": {},
     "output_type": "execute_result"
    }
   ],
   "source": [
    "data1.drop(['reviewerID','reviewerName','unixReviewTime','reviewTime','asin','helpful/0','helpful/1'],axis=1, inplace=True)\n",
    "data1.head()"
   ]
  },
  {
   "cell_type": "code",
   "execution_count": null,
   "metadata": {
    "colab": {
     "base_uri": "https://localhost:8080/",
     "height": 206
    },
    "id": "_fwI4rai9kcj",
    "outputId": "cab805f1-dcdd-48b1-b8f8-cf47e065be58"
   },
   "outputs": [
    {
     "data": {
      "text/html": [
       "\n",
       "  <div id=\"df-18383bda-5bb3-480d-8dd3-c78807c5e036\">\n",
       "    <div class=\"colab-df-container\">\n",
       "      <div>\n",
       "<style scoped>\n",
       "    .dataframe tbody tr th:only-of-type {\n",
       "        vertical-align: middle;\n",
       "    }\n",
       "\n",
       "    .dataframe tbody tr th {\n",
       "        vertical-align: top;\n",
       "    }\n",
       "\n",
       "    .dataframe thead th {\n",
       "        text-align: right;\n",
       "    }\n",
       "</style>\n",
       "<table border=\"1\" class=\"dataframe\">\n",
       "  <thead>\n",
       "    <tr style=\"text-align: right;\">\n",
       "      <th></th>\n",
       "      <th>lemstem</th>\n",
       "      <th>summary</th>\n",
       "    </tr>\n",
       "  </thead>\n",
       "  <tbody>\n",
       "    <tr>\n",
       "      <th>8107</th>\n",
       "      <td>[work, shut, soon, finish, tune, eat, batteri,...</td>\n",
       "      <td>Eats batteries.</td>\n",
       "    </tr>\n",
       "    <tr>\n",
       "      <th>8108</th>\n",
       "      <td>[awesom, item, realli, use, tune, havent, prob...</td>\n",
       "      <td>awesome item</td>\n",
       "    </tr>\n",
       "    <tr>\n",
       "      <th>8109</th>\n",
       "      <td>[friend, comment, bright, color, youll, never,...</td>\n",
       "      <td>nice tuner for the $</td>\n",
       "    </tr>\n",
       "    <tr>\n",
       "      <th>8110</th>\n",
       "      <td>[anoth, cheap, clip, tuner, guitarfetishcom, w...</td>\n",
       "      <td>Wow! Great tuner!</td>\n",
       "    </tr>\n",
       "    <tr>\n",
       "      <th>8111</th>\n",
       "      <td>[snark, seri, tuner, best, small, tuner, found...</td>\n",
       "      <td>excellent tuner</td>\n",
       "    </tr>\n",
       "  </tbody>\n",
       "</table>\n",
       "</div>\n",
       "      <button class=\"colab-df-convert\" onclick=\"convertToInteractive('df-18383bda-5bb3-480d-8dd3-c78807c5e036')\"\n",
       "              title=\"Convert this dataframe to an interactive table.\"\n",
       "              style=\"display:none;\">\n",
       "        \n",
       "  <svg xmlns=\"http://www.w3.org/2000/svg\" height=\"24px\"viewBox=\"0 0 24 24\"\n",
       "       width=\"24px\">\n",
       "    <path d=\"M0 0h24v24H0V0z\" fill=\"none\"/>\n",
       "    <path d=\"M18.56 5.44l.94 2.06.94-2.06 2.06-.94-2.06-.94-.94-2.06-.94 2.06-2.06.94zm-11 1L8.5 8.5l.94-2.06 2.06-.94-2.06-.94L8.5 2.5l-.94 2.06-2.06.94zm10 10l.94 2.06.94-2.06 2.06-.94-2.06-.94-.94-2.06-.94 2.06-2.06.94z\"/><path d=\"M17.41 7.96l-1.37-1.37c-.4-.4-.92-.59-1.43-.59-.52 0-1.04.2-1.43.59L10.3 9.45l-7.72 7.72c-.78.78-.78 2.05 0 2.83L4 21.41c.39.39.9.59 1.41.59.51 0 1.02-.2 1.41-.59l7.78-7.78 2.81-2.81c.8-.78.8-2.07 0-2.86zM5.41 20L4 18.59l7.72-7.72 1.47 1.35L5.41 20z\"/>\n",
       "  </svg>\n",
       "      </button>\n",
       "      \n",
       "  <style>\n",
       "    .colab-df-container {\n",
       "      display:flex;\n",
       "      flex-wrap:wrap;\n",
       "      gap: 12px;\n",
       "    }\n",
       "\n",
       "    .colab-df-convert {\n",
       "      background-color: #E8F0FE;\n",
       "      border: none;\n",
       "      border-radius: 50%;\n",
       "      cursor: pointer;\n",
       "      display: none;\n",
       "      fill: #1967D2;\n",
       "      height: 32px;\n",
       "      padding: 0 0 0 0;\n",
       "      width: 32px;\n",
       "    }\n",
       "\n",
       "    .colab-df-convert:hover {\n",
       "      background-color: #E2EBFA;\n",
       "      box-shadow: 0px 1px 2px rgba(60, 64, 67, 0.3), 0px 1px 3px 1px rgba(60, 64, 67, 0.15);\n",
       "      fill: #174EA6;\n",
       "    }\n",
       "\n",
       "    [theme=dark] .colab-df-convert {\n",
       "      background-color: #3B4455;\n",
       "      fill: #D2E3FC;\n",
       "    }\n",
       "\n",
       "    [theme=dark] .colab-df-convert:hover {\n",
       "      background-color: #434B5C;\n",
       "      box-shadow: 0px 1px 3px 1px rgba(0, 0, 0, 0.15);\n",
       "      filter: drop-shadow(0px 1px 2px rgba(0, 0, 0, 0.3));\n",
       "      fill: #FFFFFF;\n",
       "    }\n",
       "  </style>\n",
       "\n",
       "      <script>\n",
       "        const buttonEl =\n",
       "          document.querySelector('#df-18383bda-5bb3-480d-8dd3-c78807c5e036 button.colab-df-convert');\n",
       "        buttonEl.style.display =\n",
       "          google.colab.kernel.accessAllowed ? 'block' : 'none';\n",
       "\n",
       "        async function convertToInteractive(key) {\n",
       "          const element = document.querySelector('#df-18383bda-5bb3-480d-8dd3-c78807c5e036');\n",
       "          const dataTable =\n",
       "            await google.colab.kernel.invokeFunction('convertToInteractive',\n",
       "                                                     [key], {});\n",
       "          if (!dataTable) return;\n",
       "\n",
       "          const docLinkHtml = 'Like what you see? Visit the ' +\n",
       "            '<a target=\"_blank\" href=https://colab.research.google.com/notebooks/data_table.ipynb>data table notebook</a>'\n",
       "            + ' to learn more about interactive tables.';\n",
       "          element.innerHTML = '';\n",
       "          dataTable['output_type'] = 'display_data';\n",
       "          await google.colab.output.renderOutput(dataTable, element);\n",
       "          const docLink = document.createElement('div');\n",
       "          docLink.innerHTML = docLinkHtml;\n",
       "          element.appendChild(docLink);\n",
       "        }\n",
       "      </script>\n",
       "    </div>\n",
       "  </div>\n",
       "  "
      ],
      "text/plain": [
       "                                                lemstem               summary\n",
       "8107  [work, shut, soon, finish, tune, eat, batteri,...       Eats batteries.\n",
       "8108  [awesom, item, realli, use, tune, havent, prob...          awesome item\n",
       "8109  [friend, comment, bright, color, youll, never,...  nice tuner for the $\n",
       "8110  [anoth, cheap, clip, tuner, guitarfetishcom, w...     Wow! Great tuner!\n",
       "8111  [snark, seri, tuner, best, small, tuner, found...       excellent tuner"
      ]
     },
     "execution_count": 56,
     "metadata": {},
     "output_type": "execute_result"
    }
   ],
   "source": [
    "data2 = data1[['lemstem','summary']]\n",
    "data2.head()"
   ]
  },
  {
   "cell_type": "markdown",
   "metadata": {
    "id": "mTBrx8bCisqL"
   },
   "source": [
    "Count vectorizer"
   ]
  },
  {
   "cell_type": "code",
   "execution_count": null,
   "metadata": {
    "colab": {
     "base_uri": "https://localhost:8080/"
    },
    "id": "ZHY6h8Hs-Tab",
    "outputId": "0a127663-9572-41d0-97f1-469c260cef2e"
   },
   "outputs": [
    {
     "data": {
      "text/plain": [
       "(163, 1605)"
      ]
     },
     "execution_count": 57,
     "metadata": {},
     "output_type": "execute_result"
    }
   ],
   "source": [
    "from sklearn.feature_extraction import text\n",
    "from sklearn.feature_extraction.text import CountVectorizer\n",
    "cv = CountVectorizer()\n",
    "data_cv = cv.fit_transform(data1.reviewText)\n",
    "data_cv.shape"
   ]
  },
  {
   "cell_type": "code",
   "execution_count": null,
   "metadata": {
    "colab": {
     "base_uri": "https://localhost:8080/"
    },
    "id": "YXcZCLi--gRr",
    "outputId": "fc4771a4-4a17-425b-aa88-aa53d2b0a3a0"
   },
   "outputs": [
    {
     "data": {
      "text/plain": [
       "<163x1605 sparse matrix of type '<class 'numpy.int64'>'\n",
       "\twith 7710 stored elements in Compressed Sparse Row format>"
      ]
     },
     "execution_count": 58,
     "metadata": {},
     "output_type": "execute_result"
    }
   ],
   "source": [
    "data_cv"
   ]
  },
  {
   "cell_type": "code",
   "execution_count": null,
   "metadata": {
    "id": "4n5iEhrK_brc"
   },
   "outputs": [],
   "source": [
    "tdm=data_cv.transpose()"
   ]
  },
  {
   "cell_type": "markdown",
   "metadata": {
    "id": "ynyFt7aeivPD"
   },
   "source": [
    "LDA MODEL COPIED FROM GENSIM\n",
    "```"
   ]
  },
  {
   "cell_type": "code",
   "execution_count": 20,
   "metadata": {
    "id": "SbA3iJvsi5xv"
   },
   "outputs": [],
   "source": [
    "from gensim.models import Phrases"
   ]
  },
  {
   "cell_type": "code",
   "execution_count": null,
   "metadata": {
    "id": "t4aUtZSIi4bM"
   },
   "outputs": [],
   "source": [
    "bigram = Phrases(data2.lemstem , min_count=20)\n",
    "for idx in range(len(docs)):\n",
    "    for token in bigram[docs[idx]]:\n",
    "        if '_' in token:\n",
    "            # Token is a bigram, add to document.\n",
    "            docs[idx].append(token)"
   ]
  }
 ],
 "metadata": {
  "colab": {
   "collapsed_sections": [],
   "name": "Ai case study.ipynb",
   "provenance": []
  },
  "kernelspec": {
   "display_name": "Python 3",
   "language": "python",
   "name": "python3"
  },
  "language_info": {
   "codemirror_mode": {
    "name": "ipython",
    "version": 3
   },
   "file_extension": ".py",
   "mimetype": "text/x-python",
   "name": "python",
   "nbconvert_exporter": "python",
   "pygments_lexer": "ipython3",
   "version": "3.8.3"
  }
 },
 "nbformat": 4,
 "nbformat_minor": 1
}
